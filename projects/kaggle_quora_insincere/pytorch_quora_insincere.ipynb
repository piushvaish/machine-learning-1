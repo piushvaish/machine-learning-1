{
 "cells": [
  {
   "cell_type": "markdown",
   "metadata": {
    "colab_type": "text",
    "id": "noBz1XGlvMvY",
    "toc": true
   },
   "source": [
    "<h1>Table of Contents<span class=\"tocSkip\"></span></h1>\n",
    "<div class=\"toc\"><ul class=\"toc-item\"><li><span><a href=\"#Quora-Insincere-Text-Classification\" data-toc-modified-id=\"Quora-Insincere-Text-Classification-1\"><span class=\"toc-item-num\">1&nbsp;&nbsp;</span>Quora Insincere Text Classification</a></span><ul class=\"toc-item\"><li><span><a href=\"#Preprocessing---Vocabulary-/-Pretrained-Word-Embedding\" data-toc-modified-id=\"Preprocessing---Vocabulary-/-Pretrained-Word-Embedding-1.1\"><span class=\"toc-item-num\">1.1&nbsp;&nbsp;</span>Preprocessing - Vocabulary / Pretrained Word Embedding</a></span></li><li><span><a href=\"#Data-Loading\" data-toc-modified-id=\"Data-Loading-1.2\"><span class=\"toc-item-num\">1.2&nbsp;&nbsp;</span>Data Loading</a></span></li><li><span><a href=\"#Model\" data-toc-modified-id=\"Model-1.3\"><span class=\"toc-item-num\">1.3&nbsp;&nbsp;</span>Model</a></span></li><li><span><a href=\"#Prediction\" data-toc-modified-id=\"Prediction-1.4\"><span class=\"toc-item-num\">1.4&nbsp;&nbsp;</span>Prediction</a></span></li><li><span><a href=\"#Submission\" data-toc-modified-id=\"Submission-1.5\"><span class=\"toc-item-num\">1.5&nbsp;&nbsp;</span>Submission</a></span></li></ul></li><li><span><a href=\"#Reference\" data-toc-modified-id=\"Reference-2\"><span class=\"toc-item-num\">2&nbsp;&nbsp;</span>Reference</a></span></li></ul></div>"
   ]
  },
  {
   "cell_type": "code",
   "execution_count": 1,
   "metadata": {
    "colab": {
     "base_uri": "https://localhost:8080/",
     "height": 275
    },
    "colab_type": "code",
    "id": "nUjA9iItvZWt",
    "outputId": "3a7e02c6-6323-416f-a8f6-1d8425945338"
   },
   "outputs": [
    {
     "data": {
      "text/html": [
       "<style>\n",
       "@import url('http://fonts.googleapis.com/css?family=Source+Code+Pro');\n",
       "@import url('http://fonts.googleapis.com/css?family=Vollkorn');\n",
       "@import url('http://fonts.googleapis.com/css?family=Arimo');\n",
       "@import url('http://fonts.googleapis.com/css?family=Fira_sans');\n",
       "    \n",
       "    div.cell {\n",
       "        width: 1000px;\n",
       "        margin-left: 0% !important;\n",
       "        margin-right: auto;\n",
       "    }\n",
       "    div.text_cell code {\n",
       "        background: transparent;\n",
       "        color: #000000;\n",
       "        font-weight: 600;\n",
       "        font-size: 12pt;\n",
       "        font-style: bold;\n",
       "        font-family:  'Source Code Pro', Consolas, monocco, monospace;\n",
       "    }\n",
       "    h1 {\n",
       "        font-family: 'Open sans',verdana,arial,sans-serif;\n",
       "\t}\n",
       "\t\n",
       "    div.input_area {\n",
       "        background: #F6F6F9;\n",
       "        border: 1px solid #586e75;\n",
       "    }\n",
       "\n",
       "    .text_cell_render h1 {\n",
       "        font-weight: 200;\n",
       "        font-size: 30pt;\n",
       "        line-height: 100%;\n",
       "        color:#c76c0c;\n",
       "        margin-bottom: 0.5em;\n",
       "        margin-top: 1em;\n",
       "        display: block;\n",
       "        white-space: wrap;\n",
       "        text-align: left;\n",
       "    } \n",
       "    h2 {\n",
       "        font-family: 'Open sans',verdana,arial,sans-serif;\n",
       "        text-align: left;\n",
       "    }\n",
       "    .text_cell_render h2 {\n",
       "        font-weight: 200;\n",
       "        font-size: 16pt;\n",
       "        font-style: italic;\n",
       "        line-height: 100%;\n",
       "        color:#c76c0c;\n",
       "        margin-bottom: 0.5em;\n",
       "        margin-top: 1.5em;\n",
       "        display: block;\n",
       "        white-space: wrap;\n",
       "        text-align: left;\n",
       "    } \n",
       "    h3 {\n",
       "        font-family: 'Open sans',verdana,arial,sans-serif;\n",
       "    }\n",
       "    .text_cell_render h3 {\n",
       "        font-weight: 200;\n",
       "        font-size: 14pt;\n",
       "        line-height: 100%;\n",
       "        color:#d77c0c;\n",
       "        margin-bottom: 0.5em;\n",
       "        margin-top: 2em;\n",
       "        display: block;\n",
       "        white-space: wrap;\n",
       "        text-align: left;\n",
       "    }\n",
       "    h4 {\n",
       "        font-family: 'Open sans',verdana,arial,sans-serif;\n",
       "    }\n",
       "    .text_cell_render h4 {\n",
       "        font-weight: 100;\n",
       "        font-size: 14pt;\n",
       "        color:#d77c0c;\n",
       "        margin-bottom: 0.5em;\n",
       "        margin-top: 0.5em;\n",
       "        display: block;\n",
       "        white-space: nowrap;\n",
       "    }\n",
       "    h5 {\n",
       "        font-family: 'Open sans',verdana,arial,sans-serif;\n",
       "    }\n",
       "    .text_cell_render h5 {\n",
       "        font-weight: 200;\n",
       "        font-style: normal;\n",
       "        color: #1d3b84;\n",
       "        font-size: 16pt;\n",
       "        margin-bottom: 0em;\n",
       "        margin-top: 0.5em;\n",
       "        display: block;\n",
       "        white-space: nowrap;\n",
       "    }\n",
       "    div.text_cell_render{\n",
       "        font-family: 'Fira sans', verdana,arial,sans-serif;\n",
       "        line-height: 125%;\n",
       "        font-size: 115%;\n",
       "        text-align:justify;\n",
       "        text-justify:inter-word;\n",
       "    }\n",
       "    div.output_wrapper{\n",
       "        margin-top:0.2em;\n",
       "        margin-bottom:0.2em;\n",
       "    }\n",
       "\n",
       "    code{\n",
       "      font-size: 70%;\n",
       "    }\n",
       "    .rendered_html code{\n",
       "    background-color: transparent;\n",
       "    }\n",
       "    ul{\n",
       "        margin: 2em;\n",
       "    }\n",
       "    ul li{\n",
       "        padding-left: 0.5em; \n",
       "        margin-bottom: 0.5em; \n",
       "        margin-top: 0.5em; \n",
       "    }\n",
       "    ul li li{\n",
       "        padding-left: 0.2em; \n",
       "        margin-bottom: 0.2em; \n",
       "        margin-top: 0.2em; \n",
       "    }\n",
       "    ol{\n",
       "        margin: 2em;\n",
       "    }\n",
       "    ol li{\n",
       "        padding-left: 0.5em; \n",
       "        margin-bottom: 0.5em; \n",
       "        margin-top: 0.5em; \n",
       "    }\n",
       "    ul li{\n",
       "        padding-left: 0.5em; \n",
       "        margin-bottom: 0.5em; \n",
       "        margin-top: 0.2em; \n",
       "    }\n",
       "    a:link{\n",
       "       font-weight: bold;\n",
       "       color:#447adb;\n",
       "    }\n",
       "    a:visited{\n",
       "       font-weight: bold;\n",
       "       color: #1d3b84;\n",
       "    }\n",
       "    a:hover{\n",
       "       font-weight: bold;\n",
       "       color: #1d3b84;\n",
       "    }\n",
       "    a:focus{\n",
       "       font-weight: bold;\n",
       "       color:#447adb;\n",
       "    }\n",
       "    a:active{\n",
       "       font-weight: bold;\n",
       "       color:#447adb;\n",
       "    }\n",
       "    .rendered_html :link {\n",
       "       text-decoration: underline; \n",
       "    }\n",
       "    .rendered_html :hover {\n",
       "       text-decoration: none; \n",
       "    }\n",
       "    .rendered_html :visited {\n",
       "      text-decoration: none;\n",
       "    }\n",
       "    .rendered_html :focus {\n",
       "      text-decoration: none;\n",
       "    }\n",
       "    .rendered_html :active {\n",
       "      text-decoration: none;\n",
       "    }\n",
       "    .warning{\n",
       "        color: rgb( 240, 20, 20 )\n",
       "    } \n",
       "    hr {\n",
       "      color: #f3f3f3;\n",
       "      background-color: #f3f3f3;\n",
       "      height: 1px;\n",
       "    }\n",
       "    blockquote{\n",
       "      display:block;\n",
       "      background: #fcfcfc;\n",
       "      border-left: 5px solid #c76c0c;\n",
       "      font-family: 'Open sans',verdana,arial,sans-serif;\n",
       "      width:680px;\n",
       "      padding: 10px 10px 10px 10px;\n",
       "      text-align:justify;\n",
       "      text-justify:inter-word;\n",
       "      }\n",
       "      blockquote p {\n",
       "        margin-bottom: 0;\n",
       "        line-height: 125%;\n",
       "        font-size: 100%;\n",
       "      }\n",
       "</style>\n",
       "<script>\n",
       "    MathJax.Hub.Config({\n",
       "                        TeX: {\n",
       "                           extensions: [\"AMSmath.js\"]\n",
       "                           },\n",
       "                tex2jax: {\n",
       "                    inlineMath: [ ['$','$'], [\"\\\\(\",\"\\\\)\"] ],\n",
       "                    displayMath: [ ['$$','$$'], [\"\\\\[\",\"\\\\]\"] ]\n",
       "                },\n",
       "                displayAlign: 'center', // Change this to 'center' to center equations.\n",
       "                \"HTML-CSS\": {\n",
       "                    scale:100,\n",
       "                        availableFonts: [],\n",
       "                        preferredFont:null,\n",
       "                        webFont: \"TeX\",\n",
       "                    styles: {'.MathJax_Display': {\"margin\": 4}}\n",
       "                }\n",
       "        });\n",
       "</script>\n"
      ],
      "text/plain": [
       "<IPython.core.display.HTML object>"
      ]
     },
     "execution_count": 1,
     "metadata": {},
     "output_type": "execute_result"
    }
   ],
   "source": [
    "# code for loading the format for the notebook\n",
    "import os\n",
    "\n",
    "# path : store the current path to convert back to it later\n",
    "path = os.getcwd()\n",
    "os.chdir(os.path.join('..', '..', 'notebook_format'))\n",
    "from formats import load_style\n",
    "load_style(plot_style = False)"
   ]
  },
  {
   "cell_type": "code",
   "execution_count": 2,
   "metadata": {
    "colab": {
     "base_uri": "https://localhost:8080/",
     "height": 284
    },
    "colab_type": "code",
    "id": "D7Er_4TmvMvb",
    "outputId": "fa5ce10c-262d-4073-9ad6-d2359e3223b9"
   },
   "outputs": [
    {
     "name": "stderr",
     "output_type": "stream",
     "text": [
      "Using TensorFlow backend.\n"
     ]
    },
    {
     "name": "stdout",
     "output_type": "stream",
     "text": [
      "Ethen 2020-01-30 22:28:14 \n",
      "\n",
      "CPython 3.6.4\n",
      "IPython 7.9.0\n",
      "\n",
      "numpy 1.16.5\n",
      "pandas 0.25.0\n",
      "sklearn 0.21.2\n",
      "matplotlib 3.1.1\n",
      "torch 1.3.1\n",
      "keras 2.2.2\n",
      "spacy 2.1.6\n"
     ]
    }
   ],
   "source": [
    "os.chdir(path)\n",
    "\n",
    "# 1. magic for inline plot\n",
    "# 2. magic to print version\n",
    "# 3. magic so that the notebook will reload external python modules\n",
    "# 4. magic to enable retina (high resolution) plots\n",
    "# https://gist.github.com/minrk/3301035\n",
    "%matplotlib inline\n",
    "%load_ext watermark\n",
    "%load_ext autoreload\n",
    "%autoreload 2\n",
    "%config InlineBackend.figure_format='retina'\n",
    "\n",
    "import os\n",
    "import time\n",
    "import numpy as np\n",
    "import pandas as pd\n",
    "import matplotlib.pyplot as plt\n",
    "from tqdm import tqdm\n",
    "from sklearn.model_selection import train_test_split\n",
    "from keras.preprocessing.sequence import pad_sequences\n",
    "\n",
    "# prevent scientific notations\n",
    "pd.set_option('display.float_format', lambda x: '%.3f' % x)\n",
    "\n",
    "%watermark -a 'Ethen' -d -t -v -p numpy,pandas,sklearn,matplotlib,torch,keras,spacy"
   ]
  },
  {
   "cell_type": "markdown",
   "metadata": {
    "colab_type": "text",
    "id": "2jsNL1BSkDk7"
   },
   "source": [
    "# Quora Insincere Text Classification"
   ]
  },
  {
   "cell_type": "code",
   "execution_count": 3,
   "metadata": {
    "colab": {
     "base_uri": "https://localhost:8080/",
     "height": 102
    },
    "colab_type": "code",
    "id": "TCuTGylnvMvf",
    "outputId": "1fe5af5c-3086-41e3-a91c-77bf5b7e625a"
   },
   "outputs": [
    {
     "data": {
      "text/plain": [
       "['embeddings',\n",
       " 'test.csv',\n",
       " 'train.csv',\n",
       " 'embeddings.zip',\n",
       " 'sample_submission.csv']"
      ]
     },
     "execution_count": 3,
     "metadata": {},
     "output_type": "execute_result"
    }
   ],
   "source": [
    "submission_dir = '.'\n",
    "data_dir = os.path.join('data', 'quora-insincere-questions-classification')\n",
    "os.listdir(data_dir)"
   ]
  },
  {
   "cell_type": "code",
   "execution_count": 4,
   "metadata": {
    "colab": {
     "base_uri": "https://localhost:8080/",
     "height": 102
    },
    "colab_type": "code",
    "id": "h2d6RMXWm-Lb",
    "outputId": "ceccf6cc-9616-4ca8-fa85-d559c2bcc0df"
   },
   "outputs": [
    {
     "name": "stdout",
     "output_type": "stream",
     "text": [
      "available pretrained embeddings:\n"
     ]
    },
    {
     "data": {
      "text/plain": [
       "['GoogleNews-vectors-negative300',\n",
       " 'paragram_300_sl999',\n",
       " 'glove.840B.300d',\n",
       " 'wiki-news-300d-1M']"
      ]
     },
     "execution_count": 4,
     "metadata": {},
     "output_type": "execute_result"
    }
   ],
   "source": [
    "print('available pretrained embeddings:')\n",
    "embeddings_dir = os.path.join(data_dir, 'embeddings')\n",
    "os.listdir(embeddings_dir)"
   ]
  },
  {
   "cell_type": "code",
   "execution_count": 5,
   "metadata": {
    "colab": {
     "base_uri": "https://localhost:8080/",
     "height": 238
    },
    "colab_type": "code",
    "id": "zr2sN6mwvMvi",
    "outputId": "166eb152-547b-493c-97d1-bfd50cf31527"
   },
   "outputs": [
    {
     "name": "stdout",
     "output_type": "stream",
     "text": [
      "full data shape:  (1306122, 3)\n",
      "test shape: (375806, 2)\n"
     ]
    },
    {
     "data": {
      "text/html": [
       "<div>\n",
       "<style scoped>\n",
       "    .dataframe tbody tr th:only-of-type {\n",
       "        vertical-align: middle;\n",
       "    }\n",
       "\n",
       "    .dataframe tbody tr th {\n",
       "        vertical-align: top;\n",
       "    }\n",
       "\n",
       "    .dataframe thead th {\n",
       "        text-align: right;\n",
       "    }\n",
       "</style>\n",
       "<table border=\"1\" class=\"dataframe\">\n",
       "  <thead>\n",
       "    <tr style=\"text-align: right;\">\n",
       "      <th></th>\n",
       "      <th>qid</th>\n",
       "      <th>question_text</th>\n",
       "      <th>target</th>\n",
       "    </tr>\n",
       "  </thead>\n",
       "  <tbody>\n",
       "    <tr>\n",
       "      <th>0</th>\n",
       "      <td>00002165364db923c7e6</td>\n",
       "      <td>How did Quebec nationalists see their province...</td>\n",
       "      <td>0</td>\n",
       "    </tr>\n",
       "    <tr>\n",
       "      <th>1</th>\n",
       "      <td>000032939017120e6e44</td>\n",
       "      <td>Do you have an adopted dog, how would you enco...</td>\n",
       "      <td>0</td>\n",
       "    </tr>\n",
       "    <tr>\n",
       "      <th>2</th>\n",
       "      <td>0000412ca6e4628ce2cf</td>\n",
       "      <td>Why does velocity affect time? Does velocity a...</td>\n",
       "      <td>0</td>\n",
       "    </tr>\n",
       "    <tr>\n",
       "      <th>3</th>\n",
       "      <td>000042bf85aa498cd78e</td>\n",
       "      <td>How did Otto von Guericke used the Magdeburg h...</td>\n",
       "      <td>0</td>\n",
       "    </tr>\n",
       "    <tr>\n",
       "      <th>4</th>\n",
       "      <td>0000455dfa3e01eae3af</td>\n",
       "      <td>Can I convert montra helicon D to a mountain b...</td>\n",
       "      <td>0</td>\n",
       "    </tr>\n",
       "  </tbody>\n",
       "</table>\n",
       "</div>"
      ],
      "text/plain": [
       "                    qid                                      question_text  \\\n",
       "0  00002165364db923c7e6  How did Quebec nationalists see their province...   \n",
       "1  000032939017120e6e44  Do you have an adopted dog, how would you enco...   \n",
       "2  0000412ca6e4628ce2cf  Why does velocity affect time? Does velocity a...   \n",
       "3  000042bf85aa498cd78e  How did Otto von Guericke used the Magdeburg h...   \n",
       "4  0000455dfa3e01eae3af  Can I convert montra helicon D to a mountain b...   \n",
       "\n",
       "   target  \n",
       "0       0  \n",
       "1       0  \n",
       "2       0  \n",
       "3       0  \n",
       "4       0  "
      ]
     },
     "execution_count": 5,
     "metadata": {},
     "output_type": "execute_result"
    }
   ],
   "source": [
    "train_path = os.path.join(data_dir, 'train.csv')\n",
    "test_path = os.path.join(data_dir, 'test.csv')\n",
    "\n",
    "df = pd.read_csv(train_path)\n",
    "df_test = pd.read_csv(test_path)\n",
    "print('full data shape: ', df.shape)\n",
    "print('test shape:', df_test.shape)\n",
    "df.head()"
   ]
  },
  {
   "cell_type": "markdown",
   "metadata": {
    "colab_type": "text",
    "id": "3j3xXNDnozij"
   },
   "source": [
    "We can observe an class imbalance, meaning out of all of questions provided, only 6% of them are labeled as insincere."
   ]
  },
  {
   "cell_type": "code",
   "execution_count": 6,
   "metadata": {
    "colab": {
     "base_uri": "https://localhost:8080/",
     "height": 68
    },
    "colab_type": "code",
    "id": "F3P3pJ0xvMvl",
    "outputId": "fec45c24-8a36-4755-e586-1449751775f0"
   },
   "outputs": [
    {
     "data": {
      "text/plain": [
       "0   0.938\n",
       "1   0.062\n",
       "Name: target, dtype: float64"
      ]
     },
     "execution_count": 6,
     "metadata": {},
     "output_type": "execute_result"
    }
   ],
   "source": [
    "text_col = 'question_text'\n",
    "label_col = 'target'\n",
    "\n",
    "df[label_col].value_counts() / df.shape[0]"
   ]
  },
  {
   "cell_type": "markdown",
   "metadata": {
    "colab_type": "text",
    "id": "S3o28hIMLxYS"
   },
   "source": [
    "## Preprocessing - Vocabulary / Pretrained Word Embedding"
   ]
  },
  {
   "cell_type": "markdown",
   "metadata": {
    "colab_type": "text",
    "id": "aZb1yAav20_D"
   },
   "source": [
    "We leverage spacy's tokenizer to tokenize our raw text into a space delimited text. As spacy's tokenizer is a lot more expensive compared to splitting on white-spaces, we'll perform it once for our raw text so we don't have to repeat this expensive process again."
   ]
  },
  {
   "cell_type": "code",
   "execution_count": 0,
   "metadata": {
    "colab": {},
    "colab_type": "code",
    "id": "5HWTqkrZ2rxl"
   },
   "outputs": [],
   "source": [
    "import spacy\n",
    "\n",
    "nlp = spacy.load('en', disable=['parser', 'ner', 'tagger'])"
   ]
  },
  {
   "cell_type": "code",
   "execution_count": 9,
   "metadata": {
    "colab": {
     "base_uri": "https://localhost:8080/",
     "height": 34
    },
    "colab_type": "code",
    "id": "A1Agj_J8Xedd",
    "outputId": "a34a958b-2a4d-4373-c0fa-cc056e8555a3"
   },
   "outputs": [
    {
     "name": "stderr",
     "output_type": "stream",
     "text": [
      "100%|██████████| 1306122/1306122 [07:01<00:00, 3099.87it/s]\n"
     ]
    }
   ],
   "source": [
    "labels = df[label_col].values\n",
    "\n",
    "texts = []\n",
    "for text in tqdm(df[text_col]):\n",
    "    doc = nlp.tokenizer(text)\n",
    "    tokenized_text = ' '.join(token.text for token in doc)\n",
    "    texts.append(tokenized_text)"
   ]
  },
  {
   "cell_type": "code",
   "execution_count": 10,
   "metadata": {
    "colab": {
     "base_uri": "https://localhost:8080/",
     "height": 51
    },
    "colab_type": "code",
    "id": "aZmJ3DXyCI5J",
    "outputId": "3bc30af0-a4ff-44e2-ab8f-71785473001e"
   },
   "outputs": [
    {
     "name": "stdout",
     "output_type": "stream",
     "text": [
      "train size:  1175509\n",
      "validation size:  130613\n"
     ]
    }
   ],
   "source": [
    "random_state = 1234\n",
    "val_split = 0.1\n",
    "\n",
    "texts_train, texts_val, y_train, y_val = train_test_split(\n",
    "    texts, labels,\n",
    "    test_size=val_split,\n",
    "    random_state=random_state)\n",
    "\n",
    "print('train size: ', len(texts_train))\n",
    "print('validation size: ', len(texts_val))"
   ]
  },
  {
   "cell_type": "markdown",
   "metadata": {
    "colab_type": "text",
    "id": "5QExp-oH0scp"
   },
   "source": [
    "Here we've implemented a custom tokenizer, the motivation for doing so was due to the fact at the time of writing this, keras' tokenizer did not have a `min_freq` option, meaning we could not tell the tokenizer to only retain words/tokens that have appeared in the corpus for more than `min_freq` number of times."
   ]
  },
  {
   "cell_type": "code",
   "execution_count": 0,
   "metadata": {
    "colab": {},
    "colab_type": "code",
    "id": "0d62m_pS26mW"
   },
   "outputs": [],
   "source": [
    "from operator import itemgetter\n",
    "\n",
    "\n",
    "class Vocab:\n",
    "\n",
    "    def __init__(self, tokenizer=None, max_vocab_size=None, min_count=2,\n",
    "                 unk_token=None, pad_token='<pad>'):\n",
    "        self.tokenizer = tokenizer\n",
    "        self.min_count = min_count\n",
    "        self.max_vocab_size = max_vocab_size\n",
    "        self.unk_token = unk_token\n",
    "        self.pad_token = pad_token\n",
    "\n",
    "    def fit(self, texts):\n",
    "        if self.tokenizer is None:\n",
    "            self.tokenizer_ = whitespace_tokenizer\n",
    "        else:\n",
    "            self.tokenizer_ = self.tokenizer\n",
    "\n",
    "        index2word, word2index = self.learn_vocab(texts)\n",
    "        self.index2word_ = index2word\n",
    "        self.word2index_ = word2index\n",
    "        self.vocab_size_ = len(word2index)\n",
    "        return self\n",
    "\n",
    "    def learn_vocab(self, texts):\n",
    "        tokenizer = self.tokenizer_\n",
    "\n",
    "        word_counts = {}\n",
    "        for text in texts:\n",
    "            words = tokenizer(text)\n",
    "            for word in words:\n",
    "                count = word_counts.get(word, 0)\n",
    "                word_counts[word] = count + 1\n",
    "\n",
    "        sorted_word_counts = sorted(word_counts.items(), key=itemgetter(1), reverse=True)\n",
    "\n",
    "        index2word = []\n",
    "        if self.pad_token:\n",
    "            index2word.append(self.pad_token)\n",
    "        if self.unk_token:\n",
    "            index2word.append(self.unk_token)\n",
    "\n",
    "        for word, count in sorted_word_counts:\n",
    "            if count < self.min_count or len(index2word) == self.max_vocab_size:\n",
    "                break\n",
    "\n",
    "            index2word.append(word)\n",
    "\n",
    "        word2index = {word: index for index, word in enumerate(index2word)}\n",
    "        return index2word, word2index\n",
    "\n",
    "    def texts_to_sequences(self, texts):\n",
    "        tokenizer = self.tokenizer_\n",
    "        word2index = self.word2index_\n",
    "        if self.unk_token:\n",
    "            unk_index = word2index[self.unk_token]\n",
    "\n",
    "        sequences = []\n",
    "        for text in texts:\n",
    "            words = tokenizer(text)\n",
    "            sequence = []\n",
    "            for word in words:\n",
    "                index = word2index.get(word)\n",
    "                if index is not None:\n",
    "                    sequence.append(index)\n",
    "                elif self.unk_token:\n",
    "                    sequence.append(unk_index)\n",
    "\n",
    "            sequences.append(sequence)\n",
    "\n",
    "        return sequences\n",
    "\n",
    "\n",
    "def whitespace_tokenizer(text):\n",
    "    return text.split(' ')"
   ]
  },
  {
   "cell_type": "code",
   "execution_count": 12,
   "metadata": {
    "colab": {
     "base_uri": "https://localhost:8080/",
     "height": 34
    },
    "colab_type": "code",
    "id": "rerZGnap28we",
    "outputId": "61c6f6f8-f7ce-4404-ad64-836f8b7f1c74"
   },
   "outputs": [
    {
     "name": "stdout",
     "output_type": "stream",
     "text": [
      "vocab size:  106145\n"
     ]
    }
   ],
   "source": [
    "vocab = Vocab(min_count=2)\n",
    "vocab.fit(texts_train)\n",
    "print('vocab size: ', vocab.vocab_size_)"
   ]
  },
  {
   "cell_type": "markdown",
   "metadata": {
    "colab_type": "text",
    "id": "1v4AcEHS_KoB"
   },
   "source": [
    "We can plot the distribution of the text length to understand some characteristics about our text data."
   ]
  },
  {
   "cell_type": "code",
   "execution_count": 13,
   "metadata": {
    "colab": {
     "base_uri": "https://localhost:8080/",
     "height": 376
    },
    "colab_type": "code",
    "id": "pC0cKZYt0kbp",
    "outputId": "1be2ce5d-4451-4662-8cf0-64a6a4eea6f5"
   },
   "outputs": [
    {
     "data": {
      "image/png": "[encoded data removed]",
      "text/plain": [
       "<Figure size 576x432 with 1 Axes>"
      ]
     },
     "metadata": {
      "image/png": {
       "height": 359,
       "width": 522
      },
      "tags": []
     },
     "output_type": "display_data"
    }
   ],
   "source": [
    "texts_lens = np.array([len(text.split(' ')) for text in texts])\n",
    "\n",
    "# change default style figure and font size\n",
    "plt.rcParams['figure.figsize'] = 8, 6\n",
    "plt.rcParams['font.size'] = 12\n",
    "\n",
    "plt.hist(texts_lens)\n",
    "plt.ylabel('')\n",
    "plt.xlabel('text lengths')\n",
    "plt.title('')\n",
    "plt.show()"
   ]
  },
  {
   "cell_type": "markdown",
   "metadata": {
    "colab_type": "text",
    "id": "MXQFffx7mAXN"
   },
   "source": [
    "This is the part where we should avoid padding the entire text data to a fixed length. Doing so will be suboptimal because when iterating over the dataset in a batched fashion, there will be some batches where the length of all its samples is smaller than the fixed length we've specified. We will deal with padding our tokenized text data in a batch by batch manner later down the road."
   ]
  },
  {
   "cell_type": "code",
   "execution_count": 0,
   "metadata": {
    "colab": {},
    "colab_type": "code",
    "id": "gsDQlkkf9YAq"
   },
   "outputs": [],
   "source": [
    "tokenized_train = vocab.texts_to_sequences(texts_train)\n",
    "tokenized_val = vocab.texts_to_sequences(texts_val)\n",
    "\n",
    "# in other words, a lot of examples do the following, don't do this\n",
    "# max_len = 72\n",
    "# X_train = pad_sequences(tokenized_train, maxlen=max_len)\n",
    "# X_val = pad_sequences(tokenized_val, maxlen=max_len)"
   ]
  },
  {
   "cell_type": "markdown",
   "metadata": {
    "colab_type": "text",
    "id": "vxPvvf3Qj0u9"
   },
   "source": [
    "We now load one of the pre-trained embedding."
   ]
  },
  {
   "cell_type": "code",
   "execution_count": 0,
   "metadata": {
    "colab": {},
    "colab_type": "code",
    "id": "mXad1R67zr2U"
   },
   "outputs": [],
   "source": [
    "def get_embedding_lookup(embedding_path, embed_size=300, encoding='utf8'):\n",
    "    error_lines = {}\n",
    "    embedding_lookup = {}\n",
    "    with open(embedding_path, encoding=encoding, errors='ignore') as f:\n",
    "        for idx, line in tqdm(enumerate(f)):\n",
    "            try:\n",
    "                values = line.split(' ')\n",
    "                word = values[0]\n",
    "                coef = np.array(values[1:], dtype=np.float32)\n",
    "                if coef.shape[0] != embed_size:\n",
    "                    raise ValueError('embedding size does not match', embed_size)\n",
    "\n",
    "                embedding_lookup[word] = coef\n",
    "            except ValueError:\n",
    "                error_lines[idx] = line\n",
    "\n",
    "    return embedding_lookup, error_lines"
   ]
  },
  {
   "cell_type": "code",
   "execution_count": 17,
   "metadata": {
    "colab": {
     "base_uri": "https://localhost:8080/",
     "height": 51
    },
    "colab_type": "code",
    "id": "OzkzFjK-zu6f",
    "outputId": "33216ec8-5a6a-4552-fe8c-76eb66928221"
   },
   "outputs": [
    {
     "name": "stderr",
     "output_type": "stream",
     "text": [
      "2196017it [02:40, 13664.61it/s]"
     ]
    },
    {
     "name": "stdout",
     "output_type": "stream",
     "text": [
      "glove embedding vocab size:  2196016\n"
     ]
    },
    {
     "name": "stderr",
     "output_type": "stream",
     "text": [
      "\n"
     ]
    }
   ],
   "source": [
    "# embedding vocab size : 2,196,016\n",
    "glove_embedding_path = os.path.join(embeddings_dir, 'glove.840B.300d', 'glove.840B.300d.txt')\n",
    "glove_embedding_lookup, glove_error_lines = get_embedding_lookup(glove_embedding_path)\n",
    "print('glove embedding vocab size: ', len(glove_embedding_lookup))"
   ]
  },
  {
   "cell_type": "markdown",
   "metadata": {
    "colab_type": "text",
    "id": "DTPkwgvdkhnR"
   },
   "source": [
    "Vocabularies that are not found in the pre-trained embeddings are initalized to some random numbers draw from a normal distribution with the mean and standard deviation of the whole pre-trained embedding. The next 2 code chunk computes the mean and standard deviation for the whole pre-trained embedding. Note that in pratice, we can also hard-code these values for pre-trained embeddings that we've already worked with to speed up this process."
   ]
  },
  {
   "cell_type": "code",
   "execution_count": 0,
   "metadata": {
    "colab": {},
    "colab_type": "code",
    "id": "R8W4VpLvK_37"
   },
   "outputs": [],
   "source": [
    "def compute_embedding_mean_std(embedding_lookup):\n",
    "    embedding = np.stack(list(embedding_lookup.values()))\n",
    "    return embedding.mean(), embedding.std()"
   ]
  },
  {
   "cell_type": "code",
   "execution_count": 19,
   "metadata": {
    "colab": {
     "base_uri": "https://localhost:8080/",
     "height": 34
    },
    "colab_type": "code",
    "id": "9PKWDvfwPXwL",
    "outputId": "38e9e3cf-06cd-49dd-9a57-ffd45ec96449"
   },
   "outputs": [
    {
     "name": "stdout",
     "output_type": "stream",
     "text": [
      "elapsed 7.8451313972473145\n"
     ]
    }
   ],
   "source": [
    "start_time = time.time()\n",
    "\n",
    "# we can replace the computation with hard-coded mean and standardization for the\n",
    "# glove pre-trained embedding\n",
    "glove_embed_mean, glove_embed_std = compute_embedding_mean_std(glove_embedding_lookup)\n",
    "\n",
    "elapsed = time.time() - start_time\n",
    "print('elapsed', elapsed)"
   ]
  },
  {
   "cell_type": "markdown",
   "metadata": {
    "colab_type": "text",
    "id": "dTxURAiWqucK"
   },
   "source": [
    "The following section highlights one of the main learnings of the competition. So while looking up pre-trained embeddings for our vocabulary, we try using different variations of the word to see if it results in a match. For example, here we capitalize, uppercase, lowercase, use various stemming. The core idea behind it is to make sure we can leverage pre-trained embedding as much as possible, and this approach can be used if we don't have easy access to the preprocessing method that's used by the people that trained the embeddings that we're planning to leverage.\n",
    "\n",
    "There're many ways in which we can preprocess our raw text data. For example, during this competition, a lot of [kernels](https://www.kaggle.com/theoviel/improve-your-score-with-text-preprocessing-v2) hard-coded a dictionary that contains contraction mappings such as `{\"could've\": \"could have\"}`. Or create custom tokenization rules to split the numbers and punctuations.\n",
    "\n",
    "Creating/preprocessing the vocabulary is an iterative process, if we find that we can increase the coverage by including some additional logic, then we can try and see if it does in fact increase coverage and whether it leads to some downstream performance gain. In this notebook, we just went with spacy tokenizer, use your own personal judgment to measure whether the effort is worth it to go down the customization route. "
   ]
  },
  {
   "cell_type": "code",
   "execution_count": 0,
   "metadata": {
    "colab": {},
    "colab_type": "code",
    "id": "zZDEBzrosYMx"
   },
   "outputs": [],
   "source": [
    "from nltk.stem import PorterStemmer, SnowballStemmer, LancasterStemmer\n",
    "\n",
    "porter_stemmer = PorterStemmer()\n",
    "lancaster_stemmer = LancasterStemmer()\n",
    "snowball_stemmer = SnowballStemmer(\"english\")"
   ]
  },
  {
   "cell_type": "code",
   "execution_count": 0,
   "metadata": {
    "colab": {},
    "colab_type": "code",
    "id": "rCW6L32q37l2"
   },
   "outputs": [],
   "source": [
    "def get_pretrained_embedding(embedding_lookup, word2index, vocab_size, embed_size, embed_mean, embed_std):\n",
    "    n_vocab_found = 0\n",
    "    embed_shape = (vocab_size, embed_size)\n",
    "    pretrained_embedding = np.random.normal(embed_mean, embed_std, embed_shape).astype(np.float32)\n",
    "    for word, index in word2index.items():\n",
    "        if index >= vocab_size:\n",
    "            continue\n",
    "\n",
    "        embedding_vector = embedding_lookup.get(word)\n",
    "        if embedding_vector is not None:\n",
    "            pretrained_embedding[index] = embedding_vector\n",
    "            n_vocab_found += 1\n",
    "            continue\n",
    "\n",
    "        # if we can't find the original word in the pre-trained\n",
    "        # embedding lookup, then try different variations to\n",
    "        # see if we can find it.\n",
    "        # There're a lot of duplicated code here that can be polished\n",
    "        embedding_vector = embedding_lookup.get(word.lower())\n",
    "        if embedding_vector is not None:\n",
    "            pretrained_embedding[index] = embedding_vector\n",
    "            n_vocab_found += 1\n",
    "            continue\n",
    "\n",
    "        embedding_vector = embedding_lookup.get(word.upper())\n",
    "        if embedding_vector is not None:\n",
    "            pretrained_embedding[index] = embedding_vector\n",
    "            n_vocab_found += 1\n",
    "            continue\n",
    "\n",
    "        embedding_vector = embedding_lookup.get(word.capitalize())\n",
    "        if embedding_vector is not None:\n",
    "            pretrained_embedding[index] = embedding_vector\n",
    "            n_vocab_found += 1\n",
    "            continue\n",
    "\n",
    "        embedding_vector = embedding_lookup.get(porter_stemmer.stem(word))\n",
    "        if embedding_vector is not None:\n",
    "            pretrained_embedding[index] = embedding_vector\n",
    "            n_vocab_found += 1\n",
    "            continue\n",
    "\n",
    "        embedding_vector = embedding_lookup.get(snowball_stemmer.stem(word))\n",
    "        if embedding_vector is not None:\n",
    "            pretrained_embedding[index] = embedding_vector\n",
    "            n_vocab_found += 1\n",
    "            continue\n",
    "\n",
    "        embedding_vector = embedding_lookup.get(lancaster_stemmer.stem(word))\n",
    "        if embedding_vector is not None:\n",
    "            pretrained_embedding[index] = embedding_vector\n",
    "            n_vocab_found += 1\n",
    "            continue\n",
    "\n",
    "    vocab_found_ratio = n_vocab_found / vocab_size\n",
    "    print('Found embeddings for {:.2%} of vocab'.format(vocab_found_ratio))\n",
    "    return pretrained_embedding"
   ]
  },
  {
   "cell_type": "code",
   "execution_count": 22,
   "metadata": {
    "colab": {
     "base_uri": "https://localhost:8080/",
     "height": 34
    },
    "colab_type": "code",
    "id": "4YHtKIGX4iVI",
    "outputId": "ae35947b-8abd-4185-b08e-88219513080d"
   },
   "outputs": [
    {
     "name": "stdout",
     "output_type": "stream",
     "text": [
      "Found embeddings for 94.53% of vocab\n"
     ]
    }
   ],
   "source": [
    "embed_size = 300\n",
    "glove_pretrained_embedding = get_pretrained_embedding(glove_embedding_lookup, vocab.word2index_,\n",
    "                                                      vocab.vocab_size_, embed_size,\n",
    "                                                      glove_embed_mean, glove_embed_std)"
   ]
  },
  {
   "cell_type": "markdown",
   "metadata": {
    "colab_type": "text",
    "id": "V_RDtq5hu42N"
   },
   "source": [
    "This technique is used by the [3rd place kernel](https://www.kaggle.com/c/quora-insincere-questions-classification/discussion/80495). It even went above and beyond what's implemented here, and tried to perform spell checking, spacy lemmaization to increase of vocabulary coverage."
   ]
  },
  {
   "cell_type": "markdown",
   "metadata": {
    "colab_type": "text",
    "id": "ybnM2zXEEdTg"
   },
   "source": [
    "## Data Loading"
   ]
  },
  {
   "cell_type": "code",
   "execution_count": 0,
   "metadata": {
    "colab": {},
    "colab_type": "code",
    "id": "-c2DlG2avMv4"
   },
   "outputs": [],
   "source": [
    "import torch\n",
    "import torch.nn as nn\n",
    "import torch.optim as optim\n",
    "from torch.utils.data import Dataset, DataLoader\n",
    "\n",
    "device = torch.device('cuda' if torch.cuda.is_available() else 'cpu')"
   ]
  },
  {
   "cell_type": "markdown",
   "metadata": {
    "colab_type": "text",
    "id": "ojiRPcEvoCz1"
   },
   "source": [
    "The next few code chunk involves understanding how to work with [Pytorch's Dataset and DataLoader](https://pytorch.org/docs/stable/data.html). The main customization that we are doing here is to provide our own implementation of `collate_fn`, where given a batch of dataset, we pad our batch of text data to either the maximum text length that occurs within that data (in the implementation, it contains a parameter to specify the length percentage)."
   ]
  },
  {
   "cell_type": "code",
   "execution_count": 0,
   "metadata": {
    "colab": {},
    "colab_type": "code",
    "id": "6Be8OkCn4nBf"
   },
   "outputs": [],
   "source": [
    "class LabeledDataset(Dataset):\n",
    "\n",
    "    def __init__(self, texts, labels):\n",
    "        self.texts = texts\n",
    "        self.labels = labels\n",
    "\n",
    "    def __getitem__(self, index):\n",
    "        return self.texts[index], self.labels[index]\n",
    "\n",
    "    def __len__(self):\n",
    "        return len(self.texts)"
   ]
  },
  {
   "cell_type": "code",
   "execution_count": 0,
   "metadata": {
    "colab": {},
    "colab_type": "code",
    "id": "VBV1c1i84vHp"
   },
   "outputs": [],
   "source": [
    "class LabeledCollate:\n",
    "\n",
    "    def __init__(self, max_len, pad_index, device, percentage=100):\n",
    "        self.device = device\n",
    "        self.max_len = max_len\n",
    "        self.pad_index = pad_index\n",
    "        self.percentage = percentage\n",
    "\n",
    "    def __call__(self, batch):\n",
    "        texts, labels = zip(*batch)\n",
    "\n",
    "        texts_len = [len(text) for text in texts]\n",
    "        texts_len_percentile = int(np.percentile(texts_len, self.percentage))\n",
    "        max_len = min(texts_len_percentile, self.max_len)\n",
    "\n",
    "        padded_texts = pad_sequences(texts, maxlen=max_len, value=self.pad_index)\n",
    "        texts = torch.LongTensor(padded_texts).to(self.device)   \n",
    "        labels = torch.FloatTensor(labels).to(self.device)       \n",
    "        return texts, labels"
   ]
  },
  {
   "cell_type": "code",
   "execution_count": 26,
   "metadata": {
    "colab": {
     "base_uri": "https://localhost:8080/",
     "height": 34
    },
    "colab_type": "code",
    "id": "kjPKiBjw6GXN",
    "outputId": "4c1eca04-ab38-4602-a093-752dcf8bfc37"
   },
   "outputs": [
    {
     "name": "stdout",
     "output_type": "stream",
     "text": [
      "padding index:  0\n"
     ]
    }
   ],
   "source": [
    "max_len = 72\n",
    "batch_size = 256\n",
    "\n",
    "pad_index = vocab.word2index_[vocab.pad_token]\n",
    "print('padding index: ', pad_index)\n",
    "\n",
    "collate_fn = LabeledCollate(max_len, pad_index, device)\n",
    "dataset_train = LabeledDataset(tokenized_train, y_train)\n",
    "dataset_val = LabeledDataset(tokenized_val, y_val)\n",
    "\n",
    "data_loader_train = DataLoader(dataset_train, batch_size=batch_size, collate_fn=collate_fn, shuffle=True)\n",
    "data_loader_val = DataLoader(dataset_val, batch_size=batch_size, collate_fn=collate_fn, shuffle=False)"
   ]
  },
  {
   "cell_type": "markdown",
   "metadata": {
    "colab_type": "text",
    "id": "VJ1GQJH0qBUW"
   },
   "source": [
    "We can print out one batch from the dataloader to confirm the size/shape\n",
    "is as expected."
   ]
  },
  {
   "cell_type": "code",
   "execution_count": 27,
   "metadata": {
    "colab": {
     "base_uri": "https://localhost:8080/",
     "height": 136
    },
    "colab_type": "code",
    "id": "gWpe2NXI6Hs4",
    "outputId": "11ad8d90-00ae-4e2c-c82e-2009ef440428"
   },
   "outputs": [
    {
     "data": {
      "text/plain": [
       "tensor([[    0,     0,     0,  ...,    33, 34125,     1],\n",
       "        [    0,     0,     0,  ..., 47667,   428,     1],\n",
       "        [    0,     0,     0,  ...,    15,   352,     1],\n",
       "        ...,\n",
       "        [    0,     0,     0,  ...,   251,  8690,     1],\n",
       "        [    0,     0,     0,  ...,     9,  1367,     1],\n",
       "        [    0,     0,     0,  ...,  1606, 56350,     1]], device='cuda:0')"
      ]
     },
     "execution_count": 27,
     "metadata": {
      "tags": []
     },
     "output_type": "execute_result"
    }
   ],
   "source": [
    "x_batch, y_batch = next(iter(data_loader_val))\n",
    "x_batch"
   ]
  },
  {
   "cell_type": "code",
   "execution_count": 28,
   "metadata": {
    "colab": {
     "base_uri": "https://localhost:8080/",
     "height": 34
    },
    "colab_type": "code",
    "id": "bIRZMeTHZ_Bm",
    "outputId": "cebcebaa-1e18-4286-83e6-d29fe5130357"
   },
   "outputs": [
    {
     "data": {
      "text/plain": [
       "torch.Size([256, 54])"
      ]
     },
     "execution_count": 28,
     "metadata": {
      "tags": []
     },
     "output_type": "execute_result"
    }
   ],
   "source": [
    "x_batch.shape"
   ]
  },
  {
   "cell_type": "markdown",
   "metadata": {
    "colab_type": "text",
    "id": "ckqn3Fn-Eas2"
   },
   "source": [
    "## Model"
   ]
  },
  {
   "cell_type": "markdown",
   "metadata": {
    "colab_type": "text",
    "id": "WVi2bGj_qzmj"
   },
   "source": [
    "Deep learning frameworks gives us the flexibility to define the [architectures](https://mlwhiz.com/blog/2019/03/09/deeplearning_architectures_text_classification/) suitable for the text classification task at hand. During this competition, popular architectures include Bi-Directional LSTM/GRU and attention layer.\n",
    "\n",
    "The idea behind attention mechanism is that not all words in the sentence contribute equally to the task. Hence, we introduce an attention layer within our architecture so that the model can learn when does a word contribute more to the prediction.\n",
    "\n",
    "Please refer to the following paper for more context.\n",
    "[Paper: Z. Yang, D. Tang, C. Dyer, X. He, A, Smola, E. Hovy - Hierarchical Attention Networks for Document Classification (2016)](https://www.cs.cmu.edu/~./hovy/papers/16HLT-hierarchical-attention-networks.pdf)"
   ]
  },
  {
   "cell_type": "code",
   "execution_count": 0,
   "metadata": {
    "colab": {},
    "colab_type": "code",
    "id": "3VnUxDxeLA4o"
   },
   "outputs": [],
   "source": [
    "class Attention(nn.Module):\n",
    "    \"\"\"\n",
    "    A lot of examples on the internet implements the attention layer without\n",
    "    the context vector, which is different from the notation that is mentioned\n",
    "    in the paper hierachical attention network.\n",
    "    \"\"\"\n",
    "\n",
    "    def __init__(self, feature_size):\n",
    "        super().__init__()\n",
    "        self.feature_size = feature_size\n",
    "\n",
    "        self.weight = nn.Linear(feature_size, 1)\n",
    "\n",
    "    def forward(self, inputs):\n",
    "        # inputs : [batch size, sequence len, hidden size * num directions]\n",
    "        seq_len = inputs.shape[1]\n",
    "        reshaped_inputs = inputs.contiguous().view(-1, self.feature_size)\n",
    "\n",
    "        # [batch size, sequence len]\n",
    "        uit = torch.tanh(self.weight(reshaped_inputs)).view(-1, seq_len)\n",
    "\n",
    "        # [batch size, sequence len]\n",
    "        ait = torch.softmax(uit, dim=-1)\n",
    "        # [batch size, sequence len, 1]\n",
    "        ait_reshaped = torch.unsqueeze(ait, dim=-1)\n",
    "\n",
    "        # [batch size, hidden layer]\n",
    "        weighted_inputs = torch.sum(ait_reshaped * inputs, dim=1)\n",
    "        return weighted_inputs, ait\n",
    "\n",
    "    def extra_repr(self):\n",
    "        return 'feature_size={}'.format(self.feature_size)"
   ]
  },
  {
   "cell_type": "code",
   "execution_count": 0,
   "metadata": {
    "colab": {},
    "colab_type": "code",
    "id": "vOd70Z_bfB8V"
   },
   "outputs": [],
   "source": [
    "class AttentionWithContext(nn.Module):\n",
    "\n",
    "    def __init__(self, feature_size, attention_size):\n",
    "        super().__init__()\n",
    "        self.feature_size = feature_size\n",
    "        self.attention_size = attention_size\n",
    "\n",
    "        self.weight = nn.Linear(feature_size, attention_size)\n",
    "        self.context = nn.Linear(attention_size, 1)\n",
    "\n",
    "    def forward(self, inputs):\n",
    "        # inputs : [batch size, sequence len, hidden size * num directions]\n",
    "        seq_len = inputs.shape[1]\n",
    "        reshaped_inputs = inputs.contiguous().view(-1, self.feature_size)\n",
    "\n",
    "        # [batch size * sequence len, attention size]\n",
    "        uit = torch.tanh(self.weight(reshaped_inputs))\n",
    "\n",
    "        # [batch size, sequence len]\n",
    "        ait = self.context(uit).view(-1, seq_len)\n",
    "\n",
    "        # [batch size, sequence len]\n",
    "        ait = torch.softmax(ait, dim=-1)\n",
    "        # [batch size, sequence len, 1]\n",
    "        ait_reshaped = torch.unsqueeze(ait, dim=-1)\n",
    "\n",
    "        # [batch size, hidden layer]\n",
    "        weighted_inputs = torch.sum(ait_reshaped * inputs, dim=1)\n",
    "        return weighted_inputs, ait\n",
    "\n",
    "    def extra_repr(self):\n",
    "        repr_str = 'feature_size={}, attention_size={}'\n",
    "        return repr_str.format(self.feature_size, self.attention_size)"
   ]
  },
  {
   "cell_type": "code",
   "execution_count": 0,
   "metadata": {
    "colab": {},
    "colab_type": "code",
    "id": "FKmA135cjBLe"
   },
   "outputs": [],
   "source": [
    "class TextAttentionLSTM(nn.Module):\n",
    "\n",
    "    def __init__(self, num_class, vocab_size=None, embed_size=300,\n",
    "                 n_layers=2, hidden_size=128, linear_size=256, attention_size=100,\n",
    "                 pretrained_embedding=None, freeze=True):\n",
    "        super().__init__()\n",
    "        self.num_class = num_class\n",
    "        self.n_layers = n_layers\n",
    "        self.hidden_size = hidden_size\n",
    "        self.linear_size = linear_size\n",
    "        self.attention_size = attention_size\n",
    "\n",
    "        if pretrained_embedding is None:\n",
    "            self.embedding = nn.Embedding(vocab_size, embed_size)\n",
    "            self.vocab_size = vocab_size\n",
    "            self.embed_size = embed_size\n",
    "        else:\n",
    "            self.embedding = nn.Embedding.from_pretrained(torch.FloatTensor(pretrained_embedding), freeze=freeze)\n",
    "            self.vocab_size = self.embedding.num_embeddings\n",
    "            self.embed_size = self.embedding.embedding_dim\n",
    "\n",
    "        self.lstm = nn.LSTM(self.embed_size, hidden_size, n_layers, bidirectional=True, batch_first=True)\n",
    "        self.attention = AttentionWithContext(hidden_size * 2, attention_size)\n",
    "        self.linear = nn.Linear(hidden_size * 2, linear_size)\n",
    "        self.relu = nn.ReLU()\n",
    "        self.output = nn.Linear(linear_size, num_class)\n",
    "\n",
    "    def forward(self, text):\n",
    "        output, _ = self.forward_with_attention(text)\n",
    "        return output\n",
    "\n",
    "    def forward_with_attention(self, text):\n",
    "        # embedded : [batch size, sent len, embed size]\n",
    "        embedded = self.embedding(text)\n",
    "        # output : [batch size, sent len, hidden size * num directions]\n",
    "        # hidden : [n layers * n directions, batch size, hidden size]\n",
    "        lstm_outputs, (lstm_hidden, lstm_cell) = self.lstm(embedded)\n",
    "        weighted_lstm_outputs, attention = self.attention(lstm_outputs)\n",
    "        dense = self.relu(self.linear(weighted_lstm_outputs))\n",
    "        output = self.output(dense)\n",
    "        return output, attention"
   ]
  },
  {
   "cell_type": "code",
   "execution_count": 0,
   "metadata": {
    "colab": {},
    "colab_type": "code",
    "id": "wld0Gde3U-56"
   },
   "outputs": [],
   "source": [
    "class TextLSTM(nn.Module):\n",
    "\n",
    "    def __init__(self, num_class, vocab_size=None, embed_size=300,\n",
    "                 n_layers=2, hidden_size=128, linear_size=256,\n",
    "                 pretrained_embedding=None, freeze=True):\n",
    "        super().__init__()\n",
    "        self.num_class = num_class\n",
    "        self.n_layers = n_layers\n",
    "        self.hidden_size = hidden_size\n",
    "        self.linear_size = linear_size\n",
    "\n",
    "        if pretrained_embedding is None:\n",
    "            self.embedding = nn.Embedding(vocab_size, embed_size)\n",
    "            self.vocab_size = vocab_size\n",
    "            self.embed_size = embed_size\n",
    "        else:\n",
    "            self.embedding = nn.Embedding.from_pretrained(torch.FloatTensor(pretrained_embedding), freeze=freeze)\n",
    "            self.vocab_size = self.embedding.num_embeddings\n",
    "            self.embed_size = self.embedding.embedding_dim\n",
    "\n",
    "        self.lstm = nn.LSTM(self.embed_size, hidden_size, n_layers, bidirectional=True, batch_first=True)\n",
    "        self.linear = nn.Linear(hidden_size * 2, linear_size)\n",
    "        self.relu = nn.ReLU()\n",
    "        self.output = nn.Linear(linear_size, num_class)\n",
    "\n",
    "    def forward(self, text):\n",
    "        # embedded : [batch size, sent len, embed size]\n",
    "        embedded = self.embedding(text)\n",
    "        # output : [batch size, sent len, hidden size * num directions]\n",
    "        # hidden : [n layers * n directions, batch size, hidden size]\n",
    "        lstm_outputs, (lstm_hidden, lstm_cell) = self.lstm(embedded)\n",
    "        concated = torch.cat((lstm_hidden[-2, :, :], lstm_hidden[-1, :, :]), dim=1)\n",
    "        dense = self.relu(self.linear(concated))\n",
    "        output = self.output(dense)\n",
    "        return output"
   ]
  },
  {
   "cell_type": "code",
   "execution_count": 78,
   "metadata": {
    "colab": {
     "base_uri": "https://localhost:8080/",
     "height": 153
    },
    "colab_type": "code",
    "id": "L5TlB3RQVLN2",
    "outputId": "5c43f9a9-3aa8-4b06-9af2-e805fb0065b0"
   },
   "outputs": [
    {
     "data": {
      "text/plain": [
       "TextAttentionLSTM(\n",
       "  (embedding): Embedding(106145, 300)\n",
       "  (lstm): LSTM(300, 128, num_layers=2, batch_first=True, bidirectional=True)\n",
       "  (attention): AttentionWithContext(feature_size=256)\n",
       "  (linear): Linear(in_features=256, out_features=256, bias=True)\n",
       "  (relu): ReLU()\n",
       "  (output): Linear(in_features=256, out_features=1, bias=True)\n",
       ")"
      ]
     },
     "execution_count": 78,
     "metadata": {
      "tags": []
     },
     "output_type": "execute_result"
    }
   ],
   "source": [
    "num_class = 1\n",
    "\n",
    "# both gave similar performance for this task\n",
    "# glove_model = TextLSTM(num_class, pretrained_embedding=glove_pretrained_embedding).to(device)\n",
    "glove_model = TextAttentionLSTM(num_class, pretrained_embedding=glove_pretrained_embedding).to(device)\n",
    "glove_model"
   ]
  },
  {
   "cell_type": "code",
   "execution_count": 79,
   "metadata": {
    "colab": {
     "base_uri": "https://localhost:8080/",
     "height": 34
    },
    "colab_type": "code",
    "id": "kT0AhBNV2ioo",
    "outputId": "08d3ec3e-5011-47f7-fdbb-e7951df14e8d"
   },
   "outputs": [
    {
     "name": "stdout",
     "output_type": "stream",
     "text": [
      "The model has 927,333 trainable parameters\n"
     ]
    }
   ],
   "source": [
    "def count_parameters(model):\n",
    "    return sum(p.numel() for p in model.parameters() if p.requires_grad)\n",
    "\n",
    "print(f'The model has {count_parameters(glove_model):,} trainable parameters')"
   ]
  },
  {
   "cell_type": "markdown",
   "metadata": {
    "colab_type": "text",
    "id": "V719tgTQrYLA"
   },
   "source": [
    "The next couple of code chunks involves defining functions to train the model, while training the model, we've although pass in the validation set to perform early stopping."
   ]
  },
  {
   "cell_type": "code",
   "execution_count": 0,
   "metadata": {
    "colab": {},
    "colab_type": "code",
    "id": "B6cisi-uvMwG"
   },
   "outputs": [],
   "source": [
    "def train_epoch(model, data_loader, criterion, optimizer):\n",
    "    model.train()\n",
    "\n",
    "    epoch_loss = 0.0\n",
    "    epoch_acc = 0.0\n",
    "\n",
    "    for x_batch, y_batch in data_loader:\n",
    "        optimizer.zero_grad()\n",
    "        y_output = model(x_batch).squeeze(dim=1)\n",
    "        loss = criterion(y_output, y_batch)\n",
    "        loss.backward()\n",
    "        optimizer.step()\n",
    "\n",
    "        acc = binary_accuracy(y_output, y_batch)\n",
    "        epoch_loss += loss.item()\n",
    "        epoch_acc += acc.item()\n",
    "\n",
    "    return epoch_loss / len(data_loader), epoch_acc / len(data_loader)"
   ]
  },
  {
   "cell_type": "code",
   "execution_count": 0,
   "metadata": {
    "colab": {},
    "colab_type": "code",
    "id": "4DKJyFUNJ4sK"
   },
   "outputs": [],
   "source": [
    "def binary_accuracy(y_output, y_true):\n",
    "    \"\"\"\n",
    "    Returns accuracy per batch, i.e. if you get 8/10 right, this returns 0.8, NOT 8\n",
    "    \"\"\"\n",
    "\n",
    "    # round predictions to the closest integer/label\n",
    "    rounded_preds = torch.round(torch.sigmoid(y_output))\n",
    "    correct = (rounded_preds == y_true).float()\n",
    "    accuracy = correct.sum() / len(correct)\n",
    "    return accuracy"
   ]
  },
  {
   "cell_type": "code",
   "execution_count": 0,
   "metadata": {
    "colab": {},
    "colab_type": "code",
    "id": "YbpWck2rusze"
   },
   "outputs": [],
   "source": [
    "def evaluate_epoch(model, data_loader, criterion):\n",
    "    model.eval()\n",
    "\n",
    "    epoch_loss = 0.0\n",
    "    epoch_acc = 0.0\n",
    "\n",
    "    with torch.no_grad():\n",
    "        for x_batch, y_batch in data_loader:\n",
    "            y_output = model(x_batch).squeeze(dim=1)\n",
    "            loss = criterion(y_output, y_batch)\n",
    "            acc = binary_accuracy(y_output, y_batch)\n",
    "            epoch_acc += acc.item()\n",
    "            epoch_loss += loss.item()\n",
    "\n",
    "    return epoch_loss / len(data_loader), epoch_acc / len(data_loader)"
   ]
  },
  {
   "cell_type": "code",
   "execution_count": 0,
   "metadata": {
    "colab": {},
    "colab_type": "code",
    "id": "qmKJguZsJMrc"
   },
   "outputs": [],
   "source": [
    "def train(model, data_loader_train, data_loader_val, criterion, optimizer,\n",
    "          epochs=10, max_patience=1, model_checkpoint='model.pt'):\n",
    "\n",
    "    best_val_loss = float('inf')\n",
    "    for epoch in range(epochs):\n",
    "        start_time = time.time()\n",
    "        train_loss, train_acc = train_epoch(model, data_loader_train, criterion, optimizer)\n",
    "        val_loss, val_acc = evaluate_epoch(model, data_loader_val, criterion)\n",
    "\n",
    "        secs = int(time.time() - start_time)\n",
    "        mins = secs / 60\n",
    "        secs = secs % 60\n",
    "\n",
    "        if val_loss < best_val_loss:\n",
    "            patience = 0\n",
    "            best_val_loss = val_loss\n",
    "            torch.save(model.state_dict(), model_checkpoint)\n",
    "        else:\n",
    "            patience += 1\n",
    "            if patience > max_patience:\n",
    "                break\n",
    "\n",
    "        print('Epoch %d' %(epoch + 1), \" | time in %d minutes, %d seconds\" %(mins, secs))\n",
    "        print(f'\\tLoss: {train_loss:.4f}(train)\\t|\\tAcc: {train_acc * 100:.1f}%(train)')\n",
    "        print(f'\\tLoss: {val_loss:.4f}(val)\\t|\\tAcc: {val_acc * 100:.1f}%(val)')"
   ]
  },
  {
   "cell_type": "code",
   "execution_count": 84,
   "metadata": {
    "colab": {
     "base_uri": "https://localhost:8080/",
     "height": 238
    },
    "colab_type": "code",
    "id": "AMkCiJwryjjo",
    "outputId": "d130db32-ba63-413b-ca77-dbc0ca6d1885"
   },
   "outputs": [
    {
     "name": "stdout",
     "output_type": "stream",
     "text": [
      "Epoch 1  | time in 1 minutes, 49 seconds\n",
      "\tLoss: 0.1119(train)\t|\tAcc: 95.6%(train)\n",
      "\tLoss: 0.1022(val)\t|\tAcc: 95.9%(val)\n",
      "Epoch 2  | time in 1 minutes, 48 seconds\n",
      "\tLoss: 0.0972(train)\t|\tAcc: 96.1%(train)\n",
      "\tLoss: 0.0978(val)\t|\tAcc: 96.1%(val)\n",
      "Epoch 3  | time in 1 minutes, 49 seconds\n",
      "\tLoss: 0.0897(train)\t|\tAcc: 96.4%(train)\n",
      "\tLoss: 0.0964(val)\t|\tAcc: 96.2%(val)\n",
      "Epoch 4  | time in 1 minutes, 44 seconds\n",
      "\tLoss: 0.0822(train)\t|\tAcc: 96.7%(train)\n",
      "\tLoss: 0.0970(val)\t|\tAcc: 96.2%(val)\n"
     ]
    },
    {
     "data": {
      "text/plain": [
       "<All keys matched successfully>"
      ]
     },
     "execution_count": 84,
     "metadata": {
      "tags": []
     },
     "output_type": "execute_result"
    }
   ],
   "source": [
    "optimizer = optim.Adam(glove_model.parameters())\n",
    "criterion = nn.BCEWithLogitsLoss()\n",
    "glove_model_checkpoint = 'glove.pt'\n",
    "\n",
    "train(glove_model, data_loader_train, data_loader_val, criterion, optimizer,\n",
    "      model_checkpoint=glove_model_checkpoint)\n",
    "\n",
    "glove_model.load_state_dict(torch.load(glove_model_checkpoint))"
   ]
  },
  {
   "cell_type": "markdown",
   "metadata": {
    "colab_type": "text",
    "id": "dHzg82T30Z5J"
   },
   "source": [
    "## Prediction"
   ]
  },
  {
   "cell_type": "markdown",
   "metadata": {
    "colab_type": "text",
    "id": "nTGMCzvdrtVe"
   },
   "source": [
    "The prediction part is somewhat similar to what we've did in the previous section. We tokenize the raw text from the test data, convert them into indices, then generate the predicted score for them."
   ]
  },
  {
   "cell_type": "code",
   "execution_count": 85,
   "metadata": {
    "colab": {
     "base_uri": "https://localhost:8080/",
     "height": 34
    },
    "colab_type": "code",
    "id": "OGdCAzqcCYd4",
    "outputId": "303488f9-be2f-4371-c261-cff122751259"
   },
   "outputs": [
    {
     "name": "stderr",
     "output_type": "stream",
     "text": [
      "100%|██████████| 375806/375806 [01:59<00:00, 3150.76it/s]\n"
     ]
    }
   ],
   "source": [
    "texts_test = []\n",
    "for text in tqdm(df_test[text_col]):\n",
    "    doc = nlp.tokenizer(text)\n",
    "    tokenized_text = ' '.join(token.text for token in doc)\n",
    "    texts_test.append(tokenized_text)"
   ]
  },
  {
   "cell_type": "code",
   "execution_count": 0,
   "metadata": {
    "colab": {},
    "colab_type": "code",
    "id": "JdKOSWbZ-Fa4"
   },
   "outputs": [],
   "source": [
    "tokenized_test = vocab.texts_to_sequences(texts_test)"
   ]
  },
  {
   "cell_type": "code",
   "execution_count": 0,
   "metadata": {
    "colab": {},
    "colab_type": "code",
    "id": "iLAy4xX2bsfh"
   },
   "outputs": [],
   "source": [
    "class UnlabeledDataset(Dataset):\n",
    "\n",
    "    def __init__(self, texts):\n",
    "        self.texts = texts\n",
    "\n",
    "    def __getitem__(self, index):\n",
    "        return self.texts[index]\n",
    "\n",
    "    def __len__(self):\n",
    "        return len(self.texts)\n",
    "\n",
    "\n",
    "class UnlabeledCollate:\n",
    "\n",
    "    def __init__(self, max_len, pad_index, device, percentage=100):\n",
    "        self.device = device\n",
    "        self.max_len = max_len\n",
    "        self.pad_index = pad_index\n",
    "        self.percentage = percentage\n",
    "\n",
    "    def __call__(self, batch):\n",
    "        texts_len = [len(text) for text in batch]\n",
    "        texts_len_percentile = int(np.percentile(texts_len, self.percentage))\n",
    "        max_len = min(texts_len_percentile, self.max_len)\n",
    "\n",
    "        padded_batch = pad_sequences(batch, maxlen=max_len, value=self.pad_index)\n",
    "        texts = torch.LongTensor(padded_batch).to(self.device)      \n",
    "        return texts"
   ]
  },
  {
   "cell_type": "code",
   "execution_count": 0,
   "metadata": {
    "colab": {},
    "colab_type": "code",
    "id": "0PeNFrqQAuYY"
   },
   "outputs": [],
   "source": [
    "def predict(model, X, pad_index, batch_size=512):\n",
    "    dataset = UnlabeledDataset(X)\n",
    "    collate_fn = UnlabeledCollate(max_len, pad_index, device)\n",
    "    data_loader = DataLoader(dataset, batch_size=batch_size, collate_fn=collate_fn, shuffle=False)\n",
    "\n",
    "    n_rows = len(X)\n",
    "    predictions = np.zeros(n_rows)\n",
    "    with torch.no_grad():\n",
    "        idx = 0\n",
    "        for x_batch in data_loader:\n",
    "            y_output = model(x_batch).squeeze(dim=1)\n",
    "            y_score = torch.sigmoid(y_output).cpu().numpy()\n",
    "\n",
    "            start_idx = idx\n",
    "            idx += batch_size\n",
    "            end_idx = idx\n",
    "            predictions[start_idx:end_idx] = y_score\n",
    "\n",
    "            if end_idx == n_rows:\n",
    "                break\n",
    "\n",
    "    return predictions"
   ]
  },
  {
   "cell_type": "code",
   "execution_count": 89,
   "metadata": {
    "colab": {
     "base_uri": "https://localhost:8080/",
     "height": 51
    },
    "colab_type": "code",
    "id": "ix261l7DCxrg",
    "outputId": "52224dac-a3dd-46a6-ef34-5f9e3346098e"
   },
   "outputs": [
    {
     "data": {
      "text/plain": [
       "array([6.98427260e-01, 1.45648824e-04, 3.81290098e-04, ...,\n",
       "       9.16973106e-04, 4.65367993e-05, 8.34513903e-02])"
      ]
     },
     "execution_count": 89,
     "metadata": {
      "tags": []
     },
     "output_type": "execute_result"
    }
   ],
   "source": [
    "y_pred_test = predict(glove_model, tokenized_test, pad_index)\n",
    "y_pred_test"
   ]
  },
  {
   "cell_type": "markdown",
   "metadata": {
    "colab_type": "text",
    "id": "vqlTtJrtRfuv"
   },
   "source": [
    "## Submission"
   ]
  },
  {
   "cell_type": "markdown",
   "metadata": {
    "colab_type": "text",
    "id": "5JUwQUBfs-tE"
   },
   "source": [
    "Generating the submission involves finding the threshold that reaches the optimal f1 score on the validation set then using that threshold to generated the prediction label on the test set."
   ]
  },
  {
   "cell_type": "code",
   "execution_count": 0,
   "metadata": {
    "colab": {},
    "colab_type": "code",
    "id": "sANjCWoyRhcd"
   },
   "outputs": [],
   "source": [
    "def create_submission(ids, predictions, ids_col, prediction_col, submission_path) -> pd.DataFrame:\n",
    "    df_submission = pd.DataFrame({\n",
    "        ids_col: ids,\n",
    "        prediction_col: predictions\n",
    "    }, columns=[ids_col, prediction_col])\n",
    "\n",
    "    if submission_path is not None:\n",
    "        # create the directory if need be, e.g. if the submission_path = submission/submission.csv\n",
    "        # we'll create the submission directory first if it doesn't exist\n",
    "        directory = os.path.split(submission_path)[0]\n",
    "        if (directory != '' or directory != '.') and not os.path.isdir(directory):\n",
    "            os.makedirs(directory, exist_ok=True)\n",
    "\n",
    "        df_submission.to_csv(submission_path, index=False, header=True)\n",
    "\n",
    "    return df_submission"
   ]
  },
  {
   "cell_type": "code",
   "execution_count": 0,
   "metadata": {
    "colab": {},
    "colab_type": "code",
    "id": "ECHU1E3jRkGm"
   },
   "outputs": [],
   "source": [
    "import sklearn.metrics as metrics\n",
    "\n",
    "def compute_score(y_true, y_score, verbose=True, round_digits=3):\n",
    "\n",
    "    log_loss = round(metrics.log_loss(y_true, y_score), round_digits)\n",
    "\n",
    "    precision, recall, threshold = metrics.precision_recall_curve(y_true, y_score)\n",
    "    f1 = 2 * (precision * recall) / (precision + recall)\n",
    "\n",
    "    mask = ~np.isnan(f1)\n",
    "    f1 = f1[mask]\n",
    "    precision = precision[mask]\n",
    "    recall = recall[mask]\n",
    "\n",
    "    best_index = np.argmax(f1)\n",
    "    threshold = round(threshold[best_index], round_digits)\n",
    "    precision = round(precision[best_index], round_digits)\n",
    "    recall = round(recall[best_index], round_digits)\n",
    "    f1 = round(f1[best_index], round_digits)\n",
    "\n",
    "    if verbose:\n",
    "        print('threshold: ', threshold)\n",
    "        print('precision: ', precision)\n",
    "        print('recall: ', recall)\n",
    "        print('f1: ', f1)\n",
    "\n",
    "    return {\n",
    "        'threshold': threshold,\n",
    "        'precision': precision,\n",
    "        'recall': recall,\n",
    "        'f1': f1,\n",
    "        'log_loss': log_loss\n",
    "    }"
   ]
  },
  {
   "cell_type": "code",
   "execution_count": 0,
   "metadata": {
    "colab": {},
    "colab_type": "code",
    "id": "YY78LciZVx-h"
   },
   "outputs": [],
   "source": [
    "ids_col = 'qid'\n",
    "prediction_col = 'prediction'\n",
    "ids = df_test[ids_col]"
   ]
  },
  {
   "cell_type": "code",
   "execution_count": 93,
   "metadata": {
    "colab": {
     "base_uri": "https://localhost:8080/",
     "height": 306
    },
    "colab_type": "code",
    "id": "U3mtAkJZV0d3",
    "outputId": "1fbd4aba-8e57-4a22-e377-06398ff12bd2"
   },
   "outputs": [
    {
     "name": "stdout",
     "output_type": "stream",
     "text": [
      "generating submission\n",
      "threshold:  0.349\n",
      "precision:  0.672\n",
      "recall:  0.712\n",
      "f1:  0.691\n",
      "(375806, 2)\n"
     ]
    },
    {
     "data": {
      "text/html": [
       "<div>\n",
       "<style scoped>\n",
       "    .dataframe tbody tr th:only-of-type {\n",
       "        vertical-align: middle;\n",
       "    }\n",
       "\n",
       "    .dataframe tbody tr th {\n",
       "        vertical-align: top;\n",
       "    }\n",
       "\n",
       "    .dataframe thead th {\n",
       "        text-align: right;\n",
       "    }\n",
       "</style>\n",
       "<table border=\"1\" class=\"dataframe\">\n",
       "  <thead>\n",
       "    <tr style=\"text-align: right;\">\n",
       "      <th></th>\n",
       "      <th>qid</th>\n",
       "      <th>prediction</th>\n",
       "    </tr>\n",
       "  </thead>\n",
       "  <tbody>\n",
       "    <tr>\n",
       "      <th>0</th>\n",
       "      <td>0000163e3ea7c7a74cd7</td>\n",
       "      <td>1</td>\n",
       "    </tr>\n",
       "    <tr>\n",
       "      <th>1</th>\n",
       "      <td>00002bd4fb5d505b9161</td>\n",
       "      <td>0</td>\n",
       "    </tr>\n",
       "    <tr>\n",
       "      <th>2</th>\n",
       "      <td>00007756b4a147d2b0b3</td>\n",
       "      <td>0</td>\n",
       "    </tr>\n",
       "    <tr>\n",
       "      <th>3</th>\n",
       "      <td>000086e4b7e1c7146103</td>\n",
       "      <td>0</td>\n",
       "    </tr>\n",
       "    <tr>\n",
       "      <th>4</th>\n",
       "      <td>0000c4c3fbe8785a3090</td>\n",
       "      <td>0</td>\n",
       "    </tr>\n",
       "  </tbody>\n",
       "</table>\n",
       "</div>"
      ],
      "text/plain": [
       "                    qid  prediction\n",
       "0  0000163e3ea7c7a74cd7           1\n",
       "1  00002bd4fb5d505b9161           0\n",
       "2  00007756b4a147d2b0b3           0\n",
       "3  000086e4b7e1c7146103           0\n",
       "4  0000c4c3fbe8785a3090           0"
      ]
     },
     "execution_count": 93,
     "metadata": {
      "tags": []
     },
     "output_type": "execute_result"
    }
   ],
   "source": [
    "# pretrained-embedding : glove f1 0.69\n",
    "# no-pre-trained f1: 0.652\n",
    "print('generating submission')\n",
    "submission_path = os.path.join(submission_dir, 'submission.csv')\n",
    "\n",
    "y_pred_val = predict(glove_model, tokenized_val, pad_index)\n",
    "score_dict = compute_score(y_val, y_pred_val)\n",
    "\n",
    "y_pred_test = predict(glove_model, tokenized_test, pad_index)\n",
    "predictions = (y_pred_test > score_dict['threshold']).astype(np.int)\n",
    "df_submission = create_submission(ids, predictions, ids_col, prediction_col, submission_path)\n",
    "\n",
    "# sanity check to make sure the size and the output of the submission makes sense\n",
    "print(df_submission.shape)\n",
    "df_submission.head()"
   ]
  },
  {
   "cell_type": "markdown",
   "metadata": {
    "colab_type": "text",
    "id": "zNknb6SZ6eg8"
   },
   "source": [
    "The goal of this notebook was to introduce some of the biggest personal learnings/gains from the competition. We've achieved a f1 score of 0.69 on the validation set without getting into the ensembling territory.\n",
    "\n",
    "There're other techniques that were seen in the discussion forum that can be worth trying if we wish to reproduce the performance of the winners.\n",
    "\n",
    "- Checkpoint ensembling. The idea is to perform some weighted average of the predictions after different epoch. e.g. The predictions can be 0.3 of the model from the 4th epoch and 0.7 of the model from the 5th epoch.\n",
    "- Meta Embedding. There're many pre-trained embeddings available, and each one of them might contain unique information, hence a lot of the winning solutions used some weighted version of multiple embeddings or even concatenated the pre-trained embeddings. The term meta embedding refers to ensembling multiple pret-trained embeddings. There're even works on dymanically determining the best weighting of multiple pre-trained embeddings. [Github: Dynamic Meta-Embeddings for Improved Sentence Representations](https://github.com/facebookresearch/DME)\n",
    "- Model Architecture. Adding statistical features have been reported to have some gains on the performance. These can include length of the text, question that starts with why, number of words v.s. unique words etc. These statistical features are fed into a dense layer then concatenated together with the output layer from the raw text.\n"
   ]
  },
  {
   "cell_type": "markdown",
   "metadata": {
    "colab_type": "text",
    "id": "hWSwVRfXI2CR"
   },
   "source": [
    "# Reference\n"
   ]
  },
  {
   "cell_type": "markdown",
   "metadata": {
    "colab_type": "text",
    "id": "sVKm3ZzpI4Rs"
   },
   "source": [
    "- [Kaggle: Quora Insincere Questions Classification - 3rd place kernel](https://www.kaggle.com/c/quora-insincere-questions-classification/discussion/80495)\n",
    "- [Kaggle: Quora Insincere Questions Classification - 1st place solution](https://www.kaggle.com/c/quora-insincere-questions-classification/discussion/80568)\n",
    "- [Kaggle: Jigsaw Unintended Bias in Toxicity Classification - Speed up your RNN with Sequence Bucketing](https://www.kaggle.com/bminixhofer/speed-up-your-rnn-with-sequence-bucketing)\n",
    "- [Blog: What my first Silver Medal taught me about Text Classification and Kaggle in general?](https://mlwhiz.com/blog/2019/02/19/siver_medal_kaggle_learnings/)\n",
    "- [Blog: NLP Learning Series: Part 3 - Attention, CNN and what not for Text Classification](https://mlwhiz.com/blog/2019/03/09/deeplearning_architectures_text_classification/)\n",
    "- [Blog: Text Classification, Part 3 - Hierarchical attention network](https://richliao.github.io/supervised/classification/2016/12/26/textclassifier-HATN/)\n",
    "- [Paper: Z. Yang, D. Tang, C. Dyer, X. He, A, Smola, E. Hovy - Hierarchical Attention Networks for Document Classification (2016)](https://www.cs.cmu.edu/~./hovy/papers/16HLT-hierarchical-attention-networks.pdf)"
   ]
  }
 ],
 "metadata": {
  "accelerator": "GPU",
  "colab": {
   "collapsed_sections": [],
   "machine_shape": "hm",
   "name": "pytorch_quora_insincere.ipynb",
   "provenance": [],
   "toc_visible": true
  },
  "kernelspec": {
   "display_name": "Python 3",
   "language": "python",
   "name": "python3"
  },
  "language_info": {
   "codemirror_mode": {
    "name": "ipython",
    "version": 3
   },
   "file_extension": ".py",
   "mimetype": "text/x-python",
   "name": "python",
   "nbconvert_exporter": "python",
   "pygments_lexer": "ipython3",
   "version": "3.6.4"
  },
  "toc": {
   "nav_menu": {},
   "number_sections": true,
   "sideBar": true,
   "skip_h1_title": false,
   "title_cell": "Table of Contents",
   "title_sidebar": "Contents",
   "toc_cell": true,
   "toc_position": {
    "height": "calc(100% - 180px)",
    "left": "10px",
    "top": "150px",
    "width": "293px"
   },
   "toc_section_display": true,
   "toc_window_display": true
  },
  "varInspector": {
   "cols": {
    "lenName": 16,
    "lenType": 16,
    "lenVar": 40
   },
   "kernels_config": {
    "python": {
     "delete_cmd_postfix": "",
     "delete_cmd_prefix": "del ",
     "library": "var_list.py",
     "varRefreshCmd": "print(var_dic_list())"
    },
    "r": {
     "delete_cmd_postfix": ") ",
     "delete_cmd_prefix": "rm(",
     "library": "var_list.r",
     "varRefreshCmd": "cat(var_dic_list()) "
    }
   },
   "types_to_exclude": [
    "module",
    "function",
    "builtin_function_or_method",
    "instance",
    "_Feature"
   ],
   "window_display": false
  }
 },
 "nbformat": 4,
 "nbformat_minor": 1
}
