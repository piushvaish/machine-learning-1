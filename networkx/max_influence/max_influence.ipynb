{
 "cells": [
  {
   "cell_type": "markdown",
   "metadata": {
    "toc": true
   },
   "source": [
    "<h1>Table of Contents<span class=\"tocSkip\"></span></h1>\n",
    "<div class=\"toc\"><ul class=\"toc-item\"><li><span><a href=\"#Submodular-Optimization-&amp;-Influence-Maximization\" data-toc-modified-id=\"Submodular-Optimization-&amp;-Influence-Maximization-1\"><span class=\"toc-item-num\">1&nbsp;&nbsp;</span>Submodular Optimization &amp; Influence Maximization</a></span><ul class=\"toc-item\"><li><span><a href=\"#Influence-Maximization-(IM)\" data-toc-modified-id=\"Influence-Maximization-(IM)-1.1\"><span class=\"toc-item-num\">1.1&nbsp;&nbsp;</span>Influence Maximization (IM)</a></span></li><li><span><a href=\"#Getting-Started\" data-toc-modified-id=\"Getting-Started-1.2\"><span class=\"toc-item-num\">1.2&nbsp;&nbsp;</span>Getting Started</a></span></li><li><span><a href=\"#Spread-Process---Independent-Cascade-(IC)\" data-toc-modified-id=\"Spread-Process---Independent-Cascade-(IC)-1.3\"><span class=\"toc-item-num\">1.3&nbsp;&nbsp;</span>Spread Process - Independent Cascade (IC)</a></span></li><li><span><a href=\"#Greedy-Algorithm\" data-toc-modified-id=\"Greedy-Algorithm-1.4\"><span class=\"toc-item-num\">1.4&nbsp;&nbsp;</span>Greedy Algorithm</a></span></li><li><span><a href=\"#Submodular-Optimization\" data-toc-modified-id=\"Submodular-Optimization-1.5\"><span class=\"toc-item-num\">1.5&nbsp;&nbsp;</span>Submodular Optimization</a></span></li><li><span><a href=\"#Cost-Effective-Lazy-Forward-(CELF)-Algorithm\" data-toc-modified-id=\"Cost-Effective-Lazy-Forward-(CELF)-Algorithm-1.6\"><span class=\"toc-item-num\">1.6&nbsp;&nbsp;</span>Cost Effective Lazy Forward (CELF) Algorithm</a></span></li><li><span><a href=\"#Larger-Network\" data-toc-modified-id=\"Larger-Network-1.7\"><span class=\"toc-item-num\">1.7&nbsp;&nbsp;</span>Larger Network</a></span></li><li><span><a href=\"#Conclusion\" data-toc-modified-id=\"Conclusion-1.8\"><span class=\"toc-item-num\">1.8&nbsp;&nbsp;</span>Conclusion</a></span></li></ul></li><li><span><a href=\"#Reference\" data-toc-modified-id=\"Reference-2\"><span class=\"toc-item-num\">2&nbsp;&nbsp;</span>Reference</a></span></li></ul></div>"
   ]
  },
  {
   "cell_type": "code",
   "execution_count": 1,
   "metadata": {},
   "outputs": [
    {
     "data": {
      "text/html": [
       "<style>\n",
       "@import url('http://fonts.googleapis.com/css?family=Source+Code+Pro');\n",
       "@import url('http://fonts.googleapis.com/css?family=Vollkorn');\n",
       "@import url('http://fonts.googleapis.com/css?family=Arimo');\n",
       "@import url('http://fonts.googleapis.com/css?family=Fira_sans');\n",
       "    \n",
       "    div.cell {\n",
       "        width: 1000px;\n",
       "        margin-left: 0% !important;\n",
       "        margin-right: auto;\n",
       "    }\n",
       "    div.text_cell code {\n",
       "        background: transparent;\n",
       "        color: #000000;\n",
       "        font-weight: 600;\n",
       "        font-size: 12pt;\n",
       "        font-style: bold;\n",
       "        font-family:  'Source Code Pro', Consolas, monocco, monospace;\n",
       "    }\n",
       "    h1 {\n",
       "        font-family: 'Open sans',verdana,arial,sans-serif;\n",
       "\t}\n",
       "\t\n",
       "    div.input_area {\n",
       "        background: #F6F6F9;\n",
       "        border: 1px solid #586e75;\n",
       "    }\n",
       "\n",
       "    .text_cell_render h1 {\n",
       "        font-weight: 200;\n",
       "        font-size: 30pt;\n",
       "        line-height: 100%;\n",
       "        color:#c76c0c;\n",
       "        margin-bottom: 0.5em;\n",
       "        margin-top: 1em;\n",
       "        display: block;\n",
       "        white-space: wrap;\n",
       "        text-align: left;\n",
       "    } \n",
       "    h2 {\n",
       "        font-family: 'Open sans',verdana,arial,sans-serif;\n",
       "        text-align: left;\n",
       "    }\n",
       "    .text_cell_render h2 {\n",
       "        font-weight: 200;\n",
       "        font-size: 16pt;\n",
       "        font-style: italic;\n",
       "        line-height: 100%;\n",
       "        color:#c76c0c;\n",
       "        margin-bottom: 0.5em;\n",
       "        margin-top: 1.5em;\n",
       "        display: block;\n",
       "        white-space: wrap;\n",
       "        text-align: left;\n",
       "    } \n",
       "    h3 {\n",
       "        font-family: 'Open sans',verdana,arial,sans-serif;\n",
       "    }\n",
       "    .text_cell_render h3 {\n",
       "        font-weight: 200;\n",
       "        font-size: 14pt;\n",
       "        line-height: 100%;\n",
       "        color:#d77c0c;\n",
       "        margin-bottom: 0.5em;\n",
       "        margin-top: 2em;\n",
       "        display: block;\n",
       "        white-space: wrap;\n",
       "        text-align: left;\n",
       "    }\n",
       "    h4 {\n",
       "        font-family: 'Open sans',verdana,arial,sans-serif;\n",
       "    }\n",
       "    .text_cell_render h4 {\n",
       "        font-weight: 100;\n",
       "        font-size: 14pt;\n",
       "        color:#d77c0c;\n",
       "        margin-bottom: 0.5em;\n",
       "        margin-top: 0.5em;\n",
       "        display: block;\n",
       "        white-space: nowrap;\n",
       "    }\n",
       "    h5 {\n",
       "        font-family: 'Open sans',verdana,arial,sans-serif;\n",
       "    }\n",
       "    .text_cell_render h5 {\n",
       "        font-weight: 200;\n",
       "        font-style: normal;\n",
       "        color: #1d3b84;\n",
       "        font-size: 16pt;\n",
       "        margin-bottom: 0em;\n",
       "        margin-top: 0.5em;\n",
       "        display: block;\n",
       "        white-space: nowrap;\n",
       "    }\n",
       "    div.text_cell_render{\n",
       "        font-family: 'Fira sans', verdana,arial,sans-serif;\n",
       "        line-height: 125%;\n",
       "        font-size: 115%;\n",
       "        text-align:justify;\n",
       "        text-justify:inter-word;\n",
       "    }\n",
       "    div.output_wrapper{\n",
       "        margin-top:0.2em;\n",
       "        margin-bottom:0.2em;\n",
       "    }\n",
       "\n",
       "    code{\n",
       "      font-size: 70%;\n",
       "    }\n",
       "    .rendered_html code{\n",
       "    background-color: transparent;\n",
       "    }\n",
       "    ul{\n",
       "        margin: 2em;\n",
       "    }\n",
       "    ul li{\n",
       "        padding-left: 0.5em; \n",
       "        margin-bottom: 0.5em; \n",
       "        margin-top: 0.5em; \n",
       "    }\n",
       "    ul li li{\n",
       "        padding-left: 0.2em; \n",
       "        margin-bottom: 0.2em; \n",
       "        margin-top: 0.2em; \n",
       "    }\n",
       "    ol{\n",
       "        margin: 2em;\n",
       "    }\n",
       "    ol li{\n",
       "        padding-left: 0.5em; \n",
       "        margin-bottom: 0.5em; \n",
       "        margin-top: 0.5em; \n",
       "    }\n",
       "    ul li{\n",
       "        padding-left: 0.5em; \n",
       "        margin-bottom: 0.5em; \n",
       "        margin-top: 0.2em; \n",
       "    }\n",
       "    a:link{\n",
       "       font-weight: bold;\n",
       "       color:#447adb;\n",
       "    }\n",
       "    a:visited{\n",
       "       font-weight: bold;\n",
       "       color: #1d3b84;\n",
       "    }\n",
       "    a:hover{\n",
       "       font-weight: bold;\n",
       "       color: #1d3b84;\n",
       "    }\n",
       "    a:focus{\n",
       "       font-weight: bold;\n",
       "       color:#447adb;\n",
       "    }\n",
       "    a:active{\n",
       "       font-weight: bold;\n",
       "       color:#447adb;\n",
       "    }\n",
       "    .rendered_html :link {\n",
       "       text-decoration: underline; \n",
       "    }\n",
       "    .rendered_html :hover {\n",
       "       text-decoration: none; \n",
       "    }\n",
       "    .rendered_html :visited {\n",
       "      text-decoration: none;\n",
       "    }\n",
       "    .rendered_html :focus {\n",
       "      text-decoration: none;\n",
       "    }\n",
       "    .rendered_html :active {\n",
       "      text-decoration: none;\n",
       "    }\n",
       "    .warning{\n",
       "        color: rgb( 240, 20, 20 )\n",
       "    } \n",
       "    hr {\n",
       "      color: #f3f3f3;\n",
       "      background-color: #f3f3f3;\n",
       "      height: 1px;\n",
       "    }\n",
       "    blockquote{\n",
       "      display:block;\n",
       "      background: #fcfcfc;\n",
       "      border-left: 5px solid #c76c0c;\n",
       "      font-family: 'Open sans',verdana,arial,sans-serif;\n",
       "      width:680px;\n",
       "      padding: 10px 10px 10px 10px;\n",
       "      text-align:justify;\n",
       "      text-justify:inter-word;\n",
       "      }\n",
       "      blockquote p {\n",
       "        margin-bottom: 0;\n",
       "        line-height: 125%;\n",
       "        font-size: 100%;\n",
       "      }\n",
       "</style>\n",
       "<script>\n",
       "    MathJax.Hub.Config({\n",
       "                        TeX: {\n",
       "                           extensions: [\"AMSmath.js\"]\n",
       "                           },\n",
       "                tex2jax: {\n",
       "                    inlineMath: [ ['$','$'], [\"\\\\(\",\"\\\\)\"] ],\n",
       "                    displayMath: [ ['$$','$$'], [\"\\\\[\",\"\\\\]\"] ]\n",
       "                },\n",
       "                displayAlign: 'center', // Change this to 'center' to center equations.\n",
       "                \"HTML-CSS\": {\n",
       "                    scale:100,\n",
       "                        availableFonts: [],\n",
       "                        preferredFont:null,\n",
       "                        webFont: \"TeX\",\n",
       "                    styles: {'.MathJax_Display': {\"margin\": 4}}\n",
       "                }\n",
       "        });\n",
       "</script>\n"
      ],
      "text/plain": [
       "<IPython.core.display.HTML object>"
      ]
     },
     "execution_count": 1,
     "metadata": {},
     "output_type": "execute_result"
    }
   ],
   "source": [
    "# code for loading the format for the notebook\n",
    "import os\n",
    "\n",
    "# path : store the current path to convert back to it later\n",
    "path = os.getcwd()\n",
    "os.chdir(os.path.join('..', '..', 'notebook_format'))\n",
    "\n",
    "from formats import load_style\n",
    "load_style(plot_style=False)"
   ]
  },
  {
   "cell_type": "code",
   "execution_count": 2,
   "metadata": {},
   "outputs": [
    {
     "name": "stdout",
     "output_type": "stream",
     "text": [
      "Ethen 2018-10-25 17:38:52 \n",
      "\n",
      "CPython 3.6.4\n",
      "IPython 6.4.0\n",
      "\n",
      "igraph 0.7.1\n",
      "numpy 1.14.1\n",
      "matplotlib 2.2.2\n"
     ]
    }
   ],
   "source": [
    "os.chdir(path)\n",
    "\n",
    "# 1. magic for inline plot\n",
    "# 2. magic to print version\n",
    "# 3. magic so that the notebook will reload external python modules\n",
    "# 4. magic to enable retina (high resolution) plots\n",
    "# https://gist.github.com/minrk/3301035\n",
    "%matplotlib inline\n",
    "%load_ext watermark\n",
    "%load_ext autoreload\n",
    "%autoreload 2\n",
    "%config InlineBackend.figure_format='retina'\n",
    "\n",
    "import time\n",
    "import numpy as np\n",
    "import matplotlib.pyplot as plt\n",
    "from igraph import Graph  # pip install python-igraph\n",
    "\n",
    "%watermark -a 'Ethen' -d -t -v -p igraph,numpy,matplotlib"
   ]
  },
  {
   "cell_type": "markdown",
   "metadata": {},
   "source": [
    "# Submodular Optimization & Influence Maximization"
   ]
  },
  {
   "cell_type": "markdown",
   "metadata": {},
   "source": [
    "The content and example in this documentation is build on top of the wonderful blog post at the following link. [Blog: Influence Maximization in Python - Greedy vs CELF](https://hautahi.com/im_greedycelf).  "
   ]
  },
  {
   "cell_type": "markdown",
   "metadata": {},
   "source": [
    "## Influence Maximization (IM)"
   ]
  },
  {
   "cell_type": "markdown",
   "metadata": {},
   "source": [
    "**Influence Maximization (IM)** is a field of network analysis with a lot of applications - from viral marketing to disease modeling and public health interventions. IM is the task of finding a small subset of nodes in a network such that the resulting \"influence\" propagating from that subset reaches the largest number of nodes in the network. \"Influence\" represents anything that can be passed across connected peers within a network, such as information, behavior, disease or product adoption. To make it even more concrete, IM can be used to answer the question:\n",
    "\n",
    "> If we can try to convince a subset of individuals to adopt a new product or innovation, and the goal is to trigger a large cascade of further adoptions, which set of individuals should we target?\n",
    "\n",
    "[Kempe et al. (2003)](https://www.cs.cornell.edu/home/kleinber/kdd03-inf.pdf) were the first to formalize IM as the following combinatorial optimization problem: Given a network with $n$ nodes and given a \"spreading\" or propagation process on that network, choose a \"seed set\" $S$ of size $k<n$ to maximize the number of nodes in the network that are ultimately influenced.\n",
    "\n",
    "Solving this problem turns out to be extremely computationally burdensome. For example, in a relatively small network of 1,000 nodes, there are ${n\\choose k} \\approx 8$ trillion different possible candidates of size $k=5$ seed sets, which is impossible to solve directly even on state-of-the-art high performance computing resources. Consequently, over the last 15 years, researchers has been actively trying to find approximate solutions to the problem that can be solved quickly. This notebook walks through:\n",
    "\n",
    "- How to implement two of the earliest and most fundamental approximation algorithms in Python - the Greedy and the CELF algorithms - and compares their performance.\n",
    "- We will also spend some time discussing the field of submodular optimization, as it turns out, the combinatorial optimization problem we described above is submodular."
   ]
  },
  {
   "cell_type": "markdown",
   "metadata": {},
   "source": [
    "## Getting Started"
   ]
  },
  {
   "cell_type": "markdown",
   "metadata": {},
   "source": [
    "We begin by loading a few modules. There are many popular network modeling packages, but we'll use the [`igraph`](http://igraph.org/python/) package. Don't worry if you're not acquainted with the library, we will explain the syntax, and if you like, you can even swap it out with a different graph library that you prefer.\n",
    "\n",
    "We'll first test these algorithms to see if they can produce the correct solution for a simple example for which we know the two nodes which are the most influential. Below we create a 10-node/20-edge directed `igraph` network object. This artificially created network is designed to ensure that nodes `0` and `1` are the most influential. We do this by creating 8 links outgoing from each of these nodes compared to only 1 outgoing links for the other 8 nodes. We also ensure nodes `0` and `1` are not neighbors so that having one in the seed set does not make the other redundant."
   ]
  },
  {
   "cell_type": "code",
   "execution_count": 3,
   "metadata": {},
   "outputs": [
    {
     "name": "stdout",
     "output_type": "stream",
     "text": [
      "vertices count: 10\n",
      "edges count: 20\n",
      "neighbors:  [6]\n"
     ]
    },
    {
     "data": {
      "text/plain": [
       "[[2, 3, 4, 5, 6, 7, 8, 9],\n",
       " [2, 3, 4, 5, 6, 7, 8, 9],\n",
       " [6],\n",
       " [7],\n",
       " [8],\n",
       " [9],\n",
       " [],\n",
       " [],\n",
       " [],\n",
       " []]"
      ]
     },
     "execution_count": 3,
     "metadata": {},
     "output_type": "execute_result"
    }
   ],
   "source": [
    "source = [0, 0, 0, 0, 0, 0, 0, 0, 1, 1, 1, 1, 1, 1, 1, 1, 2, 3, 4, 5]\n",
    "target = [2, 3, 4, 5, 6, 7, 8, 9, 2, 3, 4, 5, 6, 7, 8, 9, 6, 7, 8, 9]\n",
    "\n",
    "# create a directed graph\n",
    "graph = Graph(directed=True)\n",
    "\n",
    "# add the nodes/vertices (the two are used interchangeably) and edges\n",
    "# 1. the .add_vertices method adds the number of vertices\n",
    "# to the graph and igraph uses integer vertex id starting from zero\n",
    "# 2. to add edges, we call the .add_edges method, where edges\n",
    "# are specified by a tuple of integers. \n",
    "graph.add_vertices(10)\n",
    "graph.add_edges(zip(source,  target))\n",
    "print('vertices count:',  graph.vcount())\n",
    "print('edges count:',  graph.ecount())\n",
    "\n",
    "# a graph api should allow us to retrieve the neighbors of a node\n",
    "print('neighbors: ', graph.neighbors(2, mode='out'))\n",
    "\n",
    "# or create an adjacency list of the graph,\n",
    "# as we can see node 0 and 1 are the most influential\n",
    "# as the two nodes are connected to a lot of other nodes\n",
    "graph.get_adjlist()"
   ]
  },
  {
   "cell_type": "markdown",
   "metadata": {},
   "source": [
    "## Spread Process - Independent Cascade (IC)"
   ]
  },
  {
   "cell_type": "markdown",
   "metadata": {},
   "source": [
    "IM algorithms solve the optimization problem for a given spread or propagation process. We therefore first need to specify a function that simulates the spread from a given seed set across the network. We'll simulate the influence spread using the popular **Independent Cascade (IC)** model, although there are many others we could have chosen.\n",
    "\n",
    "Independent Cascade starts by having an initial set of seed nodes, $A_0$, that start the diffusion process, and the process unfolds in discrete steps according to the following randomized rule: \n",
    "\n",
    "When node $v$ first becomes active in step $t$, it is given a single chance to activate each currently inactive\n",
    "neighbor $w$; this process succeeds with a probability $p_{v,w}$, a parameter of the system — independently of the history thus far. If $v$ succeeds, then $w$ will become active in step $t + 1$; but whether or not $v$ succeeds in this current step $t$, it cannot make any further attempts to activate $w$ in subsequent rounds. This process runs until no more activations are possible. Here, we assume that the nodes are progressive, meaning the node will only go from inactive to active, but not the other way around."
   ]
  },
  {
   "cell_type": "code",
   "execution_count": 4,
   "metadata": {},
   "outputs": [
    {
     "data": {
      "text/plain": [
       "2.74"
      ]
     },
     "execution_count": 4,
     "metadata": {},
     "output_type": "execute_result"
    }
   ],
   "source": [
    "def compute_independent_cascade(graph, seed_nodes, prob, n_iters=1000):\n",
    "    total_spead = 0\n",
    "\n",
    "    # simulate the spread process over multiple runs\n",
    "    for i in range(n_iters):\n",
    "        np.random.seed(i)\n",
    "        active = seed_nodes[:]\n",
    "        new_active = seed_nodes[:]\n",
    "        \n",
    "        # for each newly activated nodes, find its neighbors that becomes activated\n",
    "        while new_active:\n",
    "            activated_nodes = []\n",
    "            for node in new_active:\n",
    "                neighbors = graph.neighbors(node, mode='out')\n",
    "                success = np.random.uniform(0, 1, len(neighbors)) < prob\n",
    "                activated_nodes += list(np.extract(success, neighbors))\n",
    "\n",
    "            # ensure the newly activated nodes doesn't already exist\n",
    "            # in the final list of activated nodes before adding them\n",
    "            # to the final list\n",
    "            new_active = list(set(activated_nodes) - set(active))\n",
    "            active += new_active\n",
    "\n",
    "        total_spead += len(active)\n",
    "\n",
    "    return total_spead / n_iters\n",
    "\n",
    "\n",
    "# assuming we start with 1 seed node\n",
    "seed_nodes = [0]\n",
    "compute_independent_cascade(graph, seed_nodes, prob=0.2)"
   ]
  },
  {
   "cell_type": "markdown",
   "metadata": {},
   "source": [
    "We calculate the expected spread of a given seed set by taking the average over a large number of Monte Carlo simulations. The outer loop in the function iterates over each of these simulations and calculates the spread for each iteration, at the end, the mean of each iteration will be our unbiased estimation for the expected spread of the seed nodes we've provided. The actual number of simulation required is up to debate, through experiment I found 1,000 to work well enough, whereas 100 was too low. On the other hand, the paper even set the simulation number up to 10,000.\n",
    "\n",
    "Within each Monte Carlo iteration, we simulate the spread of influence throughout the network over time, where a different \"time period\" occurs within each of the `while` loop iterations, which checks whether any new nodes were activated in the previous time step. If no new nodes were activated (when `new_active` is an empty list and therefore evaluates to `False`) then the independent cascade process terminates, and the function moves onto the next simulation after recording the total spread for this simulation. The term total spread here refers to the number of nodes ultimately activated (some algorithms are framed in terms of the \"additional spread\" in which case we would subtract the size of the seed set so the code would be amended to `len(active) - len(seed_nodes)`. "
   ]
  },
  {
   "cell_type": "markdown",
   "metadata": {},
   "source": [
    "## Greedy Algorithm"
   ]
  },
  {
   "cell_type": "markdown",
   "metadata": {},
   "source": [
    "With our spread function in hand, we can now turn to the IM algorithms themselves. We begin with the **Greedy algorithm**. The method is referred to as greedy as it adds the node that currently provides the best spread to our solution set without considering if it is actually the optimal solution in the long run, to elaborate the process is:\n",
    "\n",
    "- We start with an empty seed set/nodes.\n",
    "- For all the nodes that are not in the seed set/nodes, we find the node with the largest spread and adds it to the seed\n",
    "- We repeat step 2 until $k$ seed nodes are found.\n",
    "\n",
    "This algorithm only needs to calculate the spread of $\\sum_{i=0}^k (n-i)\\approx kn$ nodes, which is just 5,000 in the case of our 1,000 node and $k=5$ network (a lot less that 8 trillion!). Of course, this computational improvement comes at the cost of the resulting seed set only being an approximate solution to the IM problem because it only considers the incremental spread of the $k$ nodes individually rather than combined. Fortunately, this seemingly naive greedy algorithm is theoretically guaranteed to choose a seed set whose spread will be at least 63% of the spread of the optimal seed set. The proof of the guarantee relies heavily on the \"submodular\" property of spread functions, which will be explained in more detail in later section.\n",
    "\n",
    "The following `greedy()` function implements the algorithm. It produces the optimal set of `k` seed nodes for the graph `graph`. Apart from returning the optimal seed set, it also records average spread of that seed set along with a list showing the cumulative time taken to complete each iteration, we will use these information to compare with a different algorithm, CELF, in later section."
   ]
  },
  {
   "cell_type": "code",
   "execution_count": 5,
   "metadata": {},
   "outputs": [],
   "source": [
    "def greedy(graph, k, prob=0.2, n_iters=1000):\n",
    "    \"\"\"\n",
    "    Find k nodes with the largest spread (determined by IC) from a igraph graph\n",
    "    using the Greedy Algorithm.\n",
    "    \"\"\"\n",
    "\n",
    "    # we will be storing elapsed time and spreads along the way, in a setting where\n",
    "    # we only care about the final solution, we don't need to record these\n",
    "    # additional information\n",
    "    elapsed = []\n",
    "    spreads = []\n",
    "    solution = []\n",
    "    start_time = time.time()\n",
    "\n",
    "    for _ in range(k):\n",
    "        best_node = -1\n",
    "        best_spread = -np.inf\n",
    "\n",
    "        # loop over nodes that are not yet in our final solution\n",
    "        # to find biggest marginal gain\n",
    "        nodes = set(range(graph.vcount())) - set(solution)\n",
    "        for node in nodes:\n",
    "            spread = compute_independent_cascade(graph, solution + [node], prob, n_iters)\n",
    "            if spread > best_spread:\n",
    "                best_spread = spread\n",
    "                best_node = node\n",
    "\n",
    "        solution.append(best_node)\n",
    "        spreads.append(best_spread)\n",
    "\n",
    "        elapse = round(time.time() - start_time, 3)\n",
    "        elapsed.append(elapse)\n",
    "\n",
    "    return solution, spreads, elapsed"
   ]
  },
  {
   "cell_type": "code",
   "execution_count": 6,
   "metadata": {},
   "outputs": [
    {
     "name": "stdout",
     "output_type": "stream",
     "text": [
      "solution:  [0, 1]\n",
      "spreads:  [2.74, 5.098]\n",
      "elapsed:  [0.263, 0.755]\n"
     ]
    }
   ],
   "source": [
    "# the result tells us greedy algorithm was able to find the two most influential\n",
    "# node, node 0 and node 1\n",
    "k = 2\n",
    "prob = 0.2\n",
    "n_iters = 1000\n",
    "greedy_solution, greedy_spreads, greedy_elapsed = greedy(graph, k, prob, n_iters)\n",
    "print('solution: ', greedy_solution)\n",
    "print('spreads: ', greedy_spreads)\n",
    "print('elapsed: ', greedy_elapsed)"
   ]
  },
  {
   "cell_type": "markdown",
   "metadata": {},
   "source": [
    "## Submodular Optimization"
   ]
  },
  {
   "cell_type": "markdown",
   "metadata": {},
   "source": [
    "Now that we have a brief understanding of the IM problem and taken a first stab at solving this problem, let's take a step back and formally discuss submodular optimization. **A function $f$ is said to be submodular if it satisfies the diminishing return property**. More formally, if we were given a ground set $V$, a function $f:2^V \\rightarrow \\mathbb{R}$ (the function's space is 2 power $V$, as the function can either contain or not contain each element in the set $V$). The submodular property is defined as:\n",
    "\n",
    "\\begin{align}\n",
    "f(A \\cup \\{i\\}) - f(A) \\geq f(B \\cup \\{i\\}) - f(B)\n",
    "\\end{align}\n",
    "\n",
    "For any $A \\subseteq B \\subseteq V$ and $i \\in V \\setminus B$. Hence by adding any element $i$ to $A$, which is a subset of $B$ yields as least as much value (or more) if we were to add $i$ to $B$. In other words, the marginal gain of adding $i$ to $A$ should be greater or equal to the marginal gain of adding $i$ to $B$ if $A$ is a subset of $B$.\n",
    "\n",
    "The next property is known as monotone. We say that a submodular function is monotone if for any $A \\subseteq B\n",
    "\\subseteq V$, we have $f(A) \\leq f(B)$. This means that adding more elements to a set cannot decrease its value.\n",
    "\n",
    "For example: Let $f(X)=max(X)$. We have the set $X= \\{1,2,3,4,5\\}$, and we choose $A=\\{1,2\\}$ and $B=\\{1,2,5\\}$. Given those information, we can see $f(A)=2$ and $f(B)=5$ and the marginal gain of items 3,4 is :\n",
    "\n",
    "\\begin{align}\n",
    "f(3 \\, | \\, A) = 1 \\\\ \\nonumber\n",
    "f(4 \\, | \\, B) = 0 \\\\ \\nonumber\n",
    "f(3 \\, | \\, A) = 2 \\\\ \\nonumber\n",
    "f(4 \\, | \\, B) = 0\n",
    "\\end{align}\n",
    "\n",
    "Here we use the shorthand $f(i \\, | \\, A)$, to denote $f(A \\cup \\{i\\}) - f(A)$.\n",
    "\n",
    "Note that $f(i \\, | \\, A) \\ge f(i \\, | \\, B)$ for any choice of $i$, $A$ and $B$. This is because $f$ is submodular and monotone. To recap, submodular functions has the diminishing return property saying adding an element to a larger set results in smaller marginal increase in the value of $f$ (compared to adding the element to a smaller set). And monotone ensures that adding additional element to the solution set does not decrease the function's value.\n",
    "\n",
    "Since the functions we're dealing with functions that are monotone, the set with maximum value is always including everything from the ground set $V$. But what we're actually interested in is when we impose a cardinality constraint - that is, finding the set of size at most k that maximizes the utility. Formally:\n",
    "\n",
    "\\begin{align}\n",
    "A^* = \\underset{A: |A| \\leq k}{\\text{argmax}} \\,\\, f(A)\n",
    "\\end{align}\n",
    "\n",
    "For instance, in our IM problem, we are interested in finding the subset $k$ nodes that generates the largest influence. The greedy algorithm we showed above is one approach of solving this combinatorial problem.\n",
    "\n",
    "- Given a ground set $V$, if we're interested in populating a solution set of size $k$.\n",
    "- The algorithm starts with the empty set $A_0$\n",
    "- Then repeats the following step for $i = 0, ... , (k-1)$:\n",
    "\n",
    "\\begin{align}\n",
    "A_{i+1} = A_{i} \\cup \\{ \\underset{v \\in V \\setminus A_i}{\\text{argmax}} \\,\\, f(A_i \\cup \\{v\\}) \\}\n",
    "\\end{align}\n",
    "\n",
    "From a theoretical standpoint, this procedure guarantees a solution that has a score of 0.63 of the optimal set."
   ]
  },
  {
   "cell_type": "code",
   "execution_count": 7,
   "metadata": {},
   "outputs": [
    {
     "data": {
      "text/plain": [
       "array([2.74 , 2.358])"
      ]
     },
     "execution_count": 7,
     "metadata": {},
     "output_type": "execute_result"
    }
   ],
   "source": [
    "# if we check the solutions from the greedy algorithm we've\n",
    "# implemented above, we can see that our solution is in fact\n",
    "# submodular, as the spread we get is in diminshing order\n",
    "np.diff(np.hstack([np.array([0]), greedy_spreads]))"
   ]
  },
  {
   "cell_type": "markdown",
   "metadata": {},
   "source": [
    "## Cost Effective Lazy Forward (CELF) Algorithm"
   ]
  },
  {
   "cell_type": "markdown",
   "metadata": {},
   "source": [
    "**CELF Algorithm** was developed by [Leskovec et al. (2007)](https://www.cs.cmu.edu/~jure/pubs/detect-kdd07.pdf). In other places, this is referred to as the **Lazy Greedy Algorithm**. Although the Greedy algorithm is much quicker than solving the full problem, it is still very slow when used on realistically sized networks. CELF was one of the first significant subsequent improvements.\n",
    "\n",
    "CELF exploits the sub-modularity property of the spread function, which implies that the marginal spread of a given node in one iteration of the Greedy algorithm cannot be any larger than its marginal spread in the previous iteration. This helps us to choose the nodes for which we evaluate the spread function in a more sophisticated manner, rather than simply evaluating the spread for all nodes. More specifically, in the first round, we calculate the spread for all nodes (like Greedy) and store them in a list/heap, which is then sorted. Naturally, the top node is added to the seed set in the first iteration, and then removed from the list/heap. In the next iteration, only the spread for the top node is calculated. If, after resorting, that node remains at the top of the list/heap, then it must have the highest marginal gain of all nodes. Why? Because we know that if we calculated the marginal gain for all other nodes, they'd be lower than the value currently in the list (due to submodularity) and therefore the \"top node\" would remain on top. This process continues, finding the node that remains on top after calculating its marginal spread, and then adding it to the seed set. By avoiding calculating the spread for many nodes, CELF turns out to be much faster than Greedy, which we'll show below.\n",
    "\n",
    "The `celf()` function below that implements the algorithm, is split into two components. The first component, like the Greedy algorithm, iterates over each node in the graph and selects the node with the highest spread into the seed set. However, it also stores the spreads of each node for use in the second component.\n",
    "\n",
    "The second component iterates to find the remaining $k-1$ seed nodes. Within each iteration, the algorithm evaluates the marginal spread of the top node. If, after resorting, the top node stays in place then that node is selected as the next seed node. If not, then the marginal spread of the new top node is evaluated and so on.\n",
    "\n",
    "Like `greedy()`, the function returns the optimal seed set, the resulting spread and the time taken to compute each iteration. In addition, it also returns the list `lookups`, which keeps track of how many spread calculations were performed at each iteration. We didn't bother doing this for `greedy()` because we know the number of spread calculations in iteration $i$ is $N-i-1$."
   ]
  },
  {
   "cell_type": "code",
   "execution_count": 8,
   "metadata": {},
   "outputs": [],
   "source": [
    "import heapq\n",
    "\n",
    "\n",
    "def celf(graph, k, prob, n_iters=1000):\n",
    "    \"\"\"\n",
    "    Find k nodes with the largest spread (determined by IC) from a igraph graph\n",
    "    using the Cost Effective Lazy Forward Algorithm, a.k.a Lazy Greedy Algorithm.\n",
    "    \"\"\"\n",
    "    start_time = time.time()\n",
    "\n",
    "    # find the first node with greedy algorithm:\n",
    "    # python's heap is a min-heap, thus\n",
    "    # we negate the spread to get the node\n",
    "    # with the maximum spread when popping from the heap\n",
    "    gains = []\n",
    "    for node in range(graph.vcount()):\n",
    "        spread = compute_independent_cascade(graph, [node], prob, n_iters)\n",
    "        heapq.heappush(gains, (-spread, node))\n",
    "\n",
    "    # we pop the heap to get the node with the best spread,\n",
    "    # when storing the spread to negate it again to store the actual spread\n",
    "    spread, node = heapq.heappop(gains)\n",
    "    solution = [node]\n",
    "    spread = -spread\n",
    "    spreads = [spread]\n",
    "\n",
    "    # record the number of times the spread is computed\n",
    "    lookups = [graph.vcount()]\n",
    "    elapsed = [round(time.time() - start_time, 3)]\n",
    "\n",
    "    for _ in range(k - 1):\n",
    "        node_lookup = 0\n",
    "        matched = False\n",
    "\n",
    "        while not matched:\n",
    "            node_lookup += 1\n",
    "\n",
    "            # here we need to compute the marginal gain of adding the current node\n",
    "            # to the solution, instead of just the gain, i.e. we need to subtract\n",
    "            # the spread without adding the current node\n",
    "            _, current_node = heapq.heappop(gains)\n",
    "            spread_gain = compute_independent_cascade(\n",
    "                graph, solution + [current_node], prob, n_iters) - spread\n",
    "\n",
    "            # check if the previous top node stayed on the top after pushing\n",
    "            # the marginal gain to the heap\n",
    "            heapq.heappush(gains, (-spread_gain, current_node))\n",
    "            matched = gains[0][1] == current_node\n",
    "\n",
    "        # spread stores the cumulative spread\n",
    "        spread_gain, node = heapq.heappop(gains)\n",
    "        spread -= spread_gain\n",
    "        solution.append(node)\n",
    "        spreads.append(spread)\n",
    "        lookups.append(node_lookup)\n",
    "\n",
    "        elapse = round(time.time() - start_time, 3)\n",
    "        elapsed.append(elapse)\n",
    "\n",
    "    return solution, spreads, elapsed, lookups"
   ]
  },
  {
   "cell_type": "code",
   "execution_count": 9,
   "metadata": {},
   "outputs": [
    {
     "name": "stdout",
     "output_type": "stream",
     "text": [
      "solution:  [0, 1]\n",
      "spreads:  [2.74, 5.098]\n",
      "elapsed:  [0.257, 0.327]\n",
      "lookups:  [10, 1]\n"
     ]
    }
   ],
   "source": [
    "k = 2\n",
    "prob = 0.2\n",
    "n_iters = 1000\n",
    "\n",
    "celf_solution, celf_spreads, celf_elapsed, celf_lookups = celf(graph, k, prob, n_iters)\n",
    "print('solution: ', celf_solution)\n",
    "print('spreads: ', celf_spreads)\n",
    "print('elapsed: ', celf_elapsed)\n",
    "print('lookups: ', celf_lookups)"
   ]
  },
  {
   "cell_type": "markdown",
   "metadata": {},
   "source": [
    "## Larger Network"
   ]
  },
  {
   "cell_type": "markdown",
   "metadata": {},
   "source": [
    "Now that we know both algorithms at least work correctly for a simple network for which we know the answer, we move on to a more generic graph to compare the performance and efficiency of each method. Any `igraph` network object will work, but for the purposes of this post we will use a random Erdos-Renyi graph with 100 nodes and 300 edges. The exact type of graph doesn't matter as the main points hold for any graph. Rather than explicitly defining the nodes and edges like we did above, here we make use of the `.Erdos_Renyi()` method to automatically create the graph."
   ]
  },
  {
   "cell_type": "code",
   "execution_count": 10,
   "metadata": {},
   "outputs": [],
   "source": [
    "np.random.seed(1234)\n",
    "graph = Graph.Erdos_Renyi(n=100, m=300, directed=True)"
   ]
  },
  {
   "cell_type": "markdown",
   "metadata": {},
   "source": [
    "Given the graph, we again compare both optimizers with the same parameter. Again for the `n_iters` parameter, it is not uncommon to see it set to a much higher number in literatures, such as 10,000 to get a more accurate estimate of spread, we chose a lower number here so we don't have to wait as long for the results"
   ]
  },
  {
   "cell_type": "code",
   "execution_count": 11,
   "metadata": {},
   "outputs": [
    {
     "name": "stdout",
     "output_type": "stream",
     "text": [
      "celf output:   [95, 6, 61, 42, 29, 97, 52, 12, 98, 58]\n",
      "greedy output: [95, 6, 61, 42, 29, 97, 52, 12, 98, 58]\n"
     ]
    }
   ],
   "source": [
    "k = 10\n",
    "prob = 0.1\n",
    "n_iters = 1500\n",
    "celf_solution, celf_spreads, celf_elapsed, celf_lookups = celf(graph, k, prob, n_iters)\n",
    "greedy_solution, greedy_spreads, greedy_elapsed = greedy(graph, k, prob, n_iters)\n",
    "\n",
    "# print resulting solution\n",
    "print('celf output:   ' + str(celf_solution))\n",
    "print('greedy output: ' + str(greedy_solution))"
   ]
  },
  {
   "cell_type": "markdown",
   "metadata": {},
   "source": [
    "Thankfully, both optimization method yields the same solution set.\n",
    "\n",
    "In the next few code chunk, we  will use some of the information we've stored while performing the optimizing to perform a more thorough comparison. First, by plotting the resulting expected spread from both optimization method. We can see both methods yield the same expected spread."
   ]
  },
  {
   "cell_type": "code",
   "execution_count": 12,
   "metadata": {},
   "outputs": [
    {
     "data": {
      "image/png": "[encoded data removed]",
      "text/plain": [
       "<Figure size 648x432 with 1 Axes>"
      ]
     },
     "metadata": {
      "image/png": {
       "height": 392,
       "width": 556
      }
     },
     "output_type": "display_data"
    }
   ],
   "source": [
    "# change default style figure and font size\n",
    "plt.rcParams['figure.figsize'] = 8, 6\n",
    "plt.rcParams['font.size'] = 12\n",
    "\n",
    "lw = 4\n",
    "fig = plt.figure(figsize=(9,6))\n",
    "ax = fig.add_subplot(111)\n",
    "ax.plot(range(1, len(greedy_spreads) + 1), greedy_spreads, label=\"Greedy\", color=\"#FBB4AE\", lw=lw)\n",
    "ax.plot(range(1, len(celf_spreads) + 1), celf_spreads, label=\"CELF\", color=\"#B3CDE3\", lw=lw)\n",
    "ax.legend(loc=2)\n",
    "plt.ylabel('Expected Spread')\n",
    "plt.title('Expected Spread')\n",
    "plt.xlabel('Size of Seed Set')\n",
    "plt.tick_params(bottom=False, left=False)\n",
    "plt.show()"
   ]
  },
  {
   "cell_type": "markdown",
   "metadata": {},
   "source": [
    "We now compare the speed of each algorithm. The plot below shows that the computation time of Greedy is larger than CELF for all seed set sizes greater than 1 and the difference in computational times grows exponentially with the size of the seed set. This is because Greedy must compute the spread of $N-i-1$ nodes in iteration $i$ whereas CELF generally performs far fewer spread computations after the first iteration."
   ]
  },
  {
   "cell_type": "code",
   "execution_count": 13,
   "metadata": {},
   "outputs": [
    {
     "data": {
      "image/png": "[encoded data removed]",
      "text/plain": [
       "<Figure size 648x432 with 1 Axes>"
      ]
     },
     "metadata": {
      "image/png": {
       "height": 392,
       "width": 564
      }
     },
     "output_type": "display_data"
    }
   ],
   "source": [
    "lw = 4\n",
    "fig = plt.figure(figsize=(9,6))\n",
    "ax = fig.add_subplot(111)\n",
    "ax.plot(range(1, len(greedy_elapsed) + 1), greedy_elapsed, label=\"Greedy\", color=\"#FBB4AE\", lw=lw)\n",
    "ax.plot(range(1, len(celf_elapsed) + 1), celf_elapsed, label=\"CELF\", color=\"#B3CDE3\", lw=lw)\n",
    "ax.legend(loc=2)\n",
    "plt.ylabel('Computation Time (Seconds)')\n",
    "plt.xlabel('Size of Seed Set')\n",
    "plt.title('Computation Time')\n",
    "plt.tick_params(bottom=False, left=False)\n",
    "plt.show()"
   ]
  },
  {
   "cell_type": "markdown",
   "metadata": {},
   "source": [
    "We can get some further insight into the superior computational efficiency of CELF by observing how many \"node lookups\" it had to perform during each of the 10 rounds. The list that records this information shows that the first round iterated over all 100 nodes of the network. This is identical to Greedy which is why the graph above shows that the running time is equivalent for $k=1$. However, for subsequent iterations, there are far fewer spread computations because the marginal spread of a node in a previous iteration is a good indicator for its marginal spread in a future iteration. Note the relationship between the values below and the corresponding computation time presented in the graph above. There is a visible jump in the blue line for higher values of the \"node lookups\". This again solidifies the fact that while CELF produces identical solution set as Greedy, it usually has enormous speedups over the standard Greedy procedure."
   ]
  },
  {
   "cell_type": "code",
   "execution_count": 14,
   "metadata": {},
   "outputs": [
    {
     "data": {
      "text/plain": [
       "[100, 1, 4, 9, 2, 7, 4, 1, 5, 13]"
      ]
     },
     "execution_count": 14,
     "metadata": {},
     "output_type": "execute_result"
    }
   ],
   "source": [
    "celf_lookups"
   ]
  },
  {
   "cell_type": "markdown",
   "metadata": {},
   "source": [
    "## Conclusion"
   ]
  },
  {
   "cell_type": "markdown",
   "metadata": {},
   "source": [
    "We implemented both the Greedy and CELF algorithms and showed the following:\n",
    "\n",
    "- Both correctly identify the influential nodes in simple examples\n",
    "- Both result in the same seed set for a larger example.\n",
    "- The CELF algorithm runs a lot faster for any seed set $k>1$. The speed arises from the fact that after the first round, CELF performs far fewer spread computations than Greedy.\n",
    "- During the Greedy Algorithm section, we mentioned briefly that a natural greedy strategy obtains a solution that is provably within 63% of optimal. We didn't formally proved this statement here, but there are several good notes online that goes more in-depth into the proof behind this. [Notes: N. Buchbinder, M.Feldman - Submodular Functions Maximization Problems (2017)](https://www.openu.ac.il/personal_sites/moran-feldman/publications/Handbook2018.pdf)"
   ]
  },
  {
   "cell_type": "markdown",
   "metadata": {},
   "source": [
    "# Reference"
   ]
  },
  {
   "cell_type": "markdown",
   "metadata": {},
   "source": [
    "- [Blog: Influence Maximization in Python - Greedy vs CELF](https://hautahi.com/im_greedycelf)\n",
    "- [Blog: The greedy algorithm for monotone submodular maximization](https://homes.cs.washington.edu/~marcotcr/blog/greedy-submodular/)\n",
    "- [Paper: D. Kempe, J. Kleinberg, E. Tardos - Maximizing the Spread of Influence through a Social\n",
    "Network (2003)](https://www.cs.cornell.edu/home/kleinber/kdd03-inf.pdf)\n",
    "- [Notes: N. Buchbinder, M.Feldman - Submodular Functions Maximization Problems (2017)](https://www.openu.ac.il/personal_sites/moran-feldman/publications/Handbook2018.pdf)"
   ]
  }
 ],
 "metadata": {
  "kernelspec": {
   "display_name": "Python 3",
   "language": "python",
   "name": "python3"
  },
  "language_info": {
   "codemirror_mode": {
    "name": "ipython",
    "version": 3
   },
   "file_extension": ".py",
   "mimetype": "text/x-python",
   "name": "python",
   "nbconvert_exporter": "python",
   "pygments_lexer": "ipython3",
   "version": "3.6.4"
  },
  "toc": {
   "nav_menu": {},
   "number_sections": true,
   "sideBar": true,
   "skip_h1_title": false,
   "title_cell": "Table of Contents",
   "title_sidebar": "Contents",
   "toc_cell": true,
   "toc_position": {
    "height": "calc(100% - 180px)",
    "left": "10px",
    "top": "150px",
    "width": "258px"
   },
   "toc_section_display": true,
   "toc_window_display": true
  },
  "varInspector": {
   "cols": {
    "lenName": 16,
    "lenType": 16,
    "lenVar": 40
   },
   "kernels_config": {
    "python": {
     "delete_cmd_postfix": "",
     "delete_cmd_prefix": "del ",
     "library": "var_list.py",
     "varRefreshCmd": "print(var_dic_list())"
    },
    "r": {
     "delete_cmd_postfix": ") ",
     "delete_cmd_prefix": "rm(",
     "library": "var_list.r",
     "varRefreshCmd": "cat(var_dic_list()) "
    }
   },
   "types_to_exclude": [
    "module",
    "function",
    "builtin_function_or_method",
    "instance",
    "_Feature"
   ],
   "window_display": false
  }
 },
 "nbformat": 4,
 "nbformat_minor": 2
}
